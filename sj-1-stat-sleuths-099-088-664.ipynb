{
 "cells": [
  {
   "cell_type": "markdown",
   "id": "0ad7ed5f",
   "metadata": {
    "papermill": {
     "duration": 0.022895,
     "end_time": "2023-11-01T18:00:13.646445",
     "exception": false,
     "start_time": "2023-11-01T18:00:13.623550",
     "status": "completed"
    },
    "tags": []
   },
   "source": [
    "### First things first , lets import all the required libraries "
   ]
  },
  {
   "cell_type": "code",
   "execution_count": 1,
   "id": "30b5549a",
   "metadata": {
    "execution": {
     "iopub.execute_input": "2023-11-01T18:00:13.692958Z",
     "iopub.status.busy": "2023-11-01T18:00:13.692406Z",
     "iopub.status.idle": "2023-11-01T18:00:17.163392Z",
     "shell.execute_reply": "2023-11-01T18:00:17.162400Z"
    },
    "papermill": {
     "duration": 3.497637,
     "end_time": "2023-11-01T18:00:17.166215",
     "exception": false,
     "start_time": "2023-11-01T18:00:13.668578",
     "status": "completed"
    },
    "tags": []
   },
   "outputs": [],
   "source": [
    "import pandas as pd\n",
    "import numpy as np\n",
    "from matplotlib import pyplot as plt\n",
    "from statsmodels.tsa.arima_model import ARIMA\n",
    "from statsmodels.graphics.tsaplots import plot_acf, plot_pacf\n",
    "from sklearn.preprocessing import MinMaxScaler\n",
    "import statsmodels.api as sm\n",
    "from statsmodels.tsa.statespace.sarimax import SARIMAX\n",
    "import math\n",
    "from sklearn.preprocessing import MinMaxScaler\n",
    "from sklearn.metrics import mean_squared_error, mean_absolute_error"
   ]
  },
  {
   "cell_type": "code",
   "execution_count": 2,
   "id": "393ef1f9",
   "metadata": {
    "execution": {
     "iopub.execute_input": "2023-11-01T18:00:17.212811Z",
     "iopub.status.busy": "2023-11-01T18:00:17.212265Z",
     "iopub.status.idle": "2023-11-01T18:00:32.890714Z",
     "shell.execute_reply": "2023-11-01T18:00:32.889260Z"
    },
    "papermill": {
     "duration": 15.704972,
     "end_time": "2023-11-01T18:00:32.893344",
     "exception": false,
     "start_time": "2023-11-01T18:00:17.188372",
     "status": "completed"
    },
    "tags": []
   },
   "outputs": [
    {
     "name": "stdout",
     "output_type": "stream",
     "text": [
      "Collecting pmdarima\r\n",
      "  Downloading pmdarima-2.0.4-cp310-cp310-manylinux_2_17_x86_64.manylinux2014_x86_64.manylinux_2_28_x86_64.whl (2.1 MB)\r\n",
      "\u001b[2K     \u001b[90m━━━━━━━━━━━━━━━━━━━━━━━━━━━━━━━━━━━━━━━━\u001b[0m \u001b[32m2.1/2.1 MB\u001b[0m \u001b[31m39.6 MB/s\u001b[0m eta \u001b[36m0:00:00\u001b[0m\r\n",
      "\u001b[?25hRequirement already satisfied: joblib>=0.11 in /opt/conda/lib/python3.10/site-packages (from pmdarima) (1.3.2)\r\n",
      "Requirement already satisfied: Cython!=0.29.18,!=0.29.31,>=0.29 in /opt/conda/lib/python3.10/site-packages (from pmdarima) (0.29.35)\r\n",
      "Requirement already satisfied: numpy>=1.21.2 in /opt/conda/lib/python3.10/site-packages (from pmdarima) (1.23.5)\r\n",
      "Requirement already satisfied: pandas>=0.19 in /opt/conda/lib/python3.10/site-packages (from pmdarima) (2.0.3)\r\n",
      "Requirement already satisfied: scikit-learn>=0.22 in /opt/conda/lib/python3.10/site-packages (from pmdarima) (1.2.2)\r\n",
      "Requirement already satisfied: scipy>=1.3.2 in /opt/conda/lib/python3.10/site-packages (from pmdarima) (1.11.2)\r\n",
      "Requirement already satisfied: statsmodels>=0.13.2 in /opt/conda/lib/python3.10/site-packages (from pmdarima) (0.14.0)\r\n",
      "Requirement already satisfied: urllib3 in /opt/conda/lib/python3.10/site-packages (from pmdarima) (1.26.15)\r\n",
      "Requirement already satisfied: setuptools!=50.0.0,>=38.6.0 in /opt/conda/lib/python3.10/site-packages (from pmdarima) (68.0.0)\r\n",
      "Requirement already satisfied: packaging>=17.1 in /opt/conda/lib/python3.10/site-packages (from pmdarima) (21.3)\r\n",
      "Requirement already satisfied: pyparsing!=3.0.5,>=2.0.2 in /opt/conda/lib/python3.10/site-packages (from packaging>=17.1->pmdarima) (3.0.9)\r\n",
      "Requirement already satisfied: python-dateutil>=2.8.2 in /opt/conda/lib/python3.10/site-packages (from pandas>=0.19->pmdarima) (2.8.2)\r\n",
      "Requirement already satisfied: pytz>=2020.1 in /opt/conda/lib/python3.10/site-packages (from pandas>=0.19->pmdarima) (2023.3)\r\n",
      "Requirement already satisfied: tzdata>=2022.1 in /opt/conda/lib/python3.10/site-packages (from pandas>=0.19->pmdarima) (2023.3)\r\n",
      "Requirement already satisfied: threadpoolctl>=2.0.0 in /opt/conda/lib/python3.10/site-packages (from scikit-learn>=0.22->pmdarima) (3.1.0)\r\n",
      "Requirement already satisfied: patsy>=0.5.2 in /opt/conda/lib/python3.10/site-packages (from statsmodels>=0.13.2->pmdarima) (0.5.3)\r\n",
      "Requirement already satisfied: six in /opt/conda/lib/python3.10/site-packages (from patsy>=0.5.2->statsmodels>=0.13.2->pmdarima) (1.16.0)\r\n",
      "Installing collected packages: pmdarima\r\n",
      "Successfully installed pmdarima-2.0.4\r\n",
      "Note: you may need to restart the kernel to use updated packages.\n"
     ]
    }
   ],
   "source": [
    "pip install pmdarima"
   ]
  },
  {
   "cell_type": "code",
   "execution_count": 3,
   "id": "3a58a2e2",
   "metadata": {
    "execution": {
     "iopub.execute_input": "2023-11-01T18:00:32.942337Z",
     "iopub.status.busy": "2023-11-01T18:00:32.941928Z",
     "iopub.status.idle": "2023-11-01T18:00:33.146832Z",
     "shell.execute_reply": "2023-11-01T18:00:33.145710Z"
    },
    "papermill": {
     "duration": 0.232712,
     "end_time": "2023-11-01T18:00:33.149492",
     "exception": false,
     "start_time": "2023-11-01T18:00:32.916780",
     "status": "completed"
    },
    "tags": []
   },
   "outputs": [],
   "source": [
    "import os\n",
    "import warnings\n",
    "warnings.filterwarnings('ignore')\n",
    "import numpy as np\n",
    "import pandas as pd\n",
    "import matplotlib.pyplot as plt\n",
    "from statsmodels.tsa.stattools import adfuller\n",
    "from statsmodels.tsa.seasonal import seasonal_decompose\n",
    "from statsmodels.tsa.arima.model import ARIMA\n",
    "from pmdarima.arima import auto_arima\n",
    "from sklearn.metrics import mean_squared_error, mean_absolute_error\n",
    "import math"
   ]
  },
  {
   "cell_type": "code",
   "execution_count": 4,
   "id": "a792bfe3",
   "metadata": {
    "execution": {
     "iopub.execute_input": "2023-11-01T18:00:33.198643Z",
     "iopub.status.busy": "2023-11-01T18:00:33.197134Z",
     "iopub.status.idle": "2023-11-01T18:00:33.202812Z",
     "shell.execute_reply": "2023-11-01T18:00:33.202039Z"
    },
    "papermill": {
     "duration": 0.032374,
     "end_time": "2023-11-01T18:00:33.205112",
     "exception": false,
     "start_time": "2023-11-01T18:00:33.172738",
     "status": "completed"
    },
    "tags": []
   },
   "outputs": [],
   "source": [
    "from pmdarima.arima import auto_arima"
   ]
  },
  {
   "cell_type": "code",
   "execution_count": 5,
   "id": "b4198e72",
   "metadata": {
    "execution": {
     "iopub.execute_input": "2023-11-01T18:00:33.252884Z",
     "iopub.status.busy": "2023-11-01T18:00:33.252449Z",
     "iopub.status.idle": "2023-11-01T18:00:33.261842Z",
     "shell.execute_reply": "2023-11-01T18:00:33.261040Z"
    },
    "papermill": {
     "duration": 0.035899,
     "end_time": "2023-11-01T18:00:33.264024",
     "exception": false,
     "start_time": "2023-11-01T18:00:33.228125",
     "status": "completed"
    },
    "tags": []
   },
   "outputs": [
    {
     "name": "stdout",
     "output_type": "stream",
     "text": [
      "/kaggle/input/ue21cs342aa2/sample_submission.csv\n",
      "/kaggle/input/ue21cs342aa2/train.csv\n",
      "/kaggle/input/ue21cs342aa2/test.csv\n"
     ]
    }
   ],
   "source": [
    "# This Python 3 environment comes with many helpful analytics libraries installed\n",
    "# It is defined by the kaggle/python Docker image: https://github.com/kaggle/docker-python\n",
    "# For example, here's several helpful packages to load\n",
    "\n",
    "import numpy as np # linear algebra\n",
    "import pandas as pd # data processing, CSV file I/O (e.g. pd.read_csv)\n",
    "\n",
    "# Input data files are available in the read-only \"../input/\" directory\n",
    "# For example, running this (by clicking run or pressing Shift+Enter) will list all files under the input directory\n",
    "\n",
    "import os\n",
    "for dirname, _, filenames in os.walk('/kaggle/input'):\n",
    "    for filename in filenames:\n",
    "        print(os.path.join(dirname, filename))\n",
    "\n",
    "# You can write up to 20GB to the current directory (/kaggle/working/) that gets preserved as output when you create a version using \"Save & Run All\" \n",
    "# You can also write temporary files to /kaggle/temp/, but they won't be saved outside of the current session"
   ]
  },
  {
   "cell_type": "markdown",
   "id": "63dc14db",
   "metadata": {
    "papermill": {
     "duration": 0.022739,
     "end_time": "2023-11-01T18:00:33.310097",
     "exception": false,
     "start_time": "2023-11-01T18:00:33.287358",
     "status": "completed"
    },
    "tags": []
   },
   "source": [
    "### Next lets import the test and train datasets provided"
   ]
  },
  {
   "cell_type": "code",
   "execution_count": 6,
   "id": "e1a7f40b",
   "metadata": {
    "execution": {
     "iopub.execute_input": "2023-11-01T18:00:33.359777Z",
     "iopub.status.busy": "2023-11-01T18:00:33.359342Z",
     "iopub.status.idle": "2023-11-01T18:00:33.396583Z",
     "shell.execute_reply": "2023-11-01T18:00:33.395223Z"
    },
    "papermill": {
     "duration": 0.064491,
     "end_time": "2023-11-01T18:00:33.399174",
     "exception": false,
     "start_time": "2023-11-01T18:00:33.334683",
     "status": "completed"
    },
    "tags": []
   },
   "outputs": [],
   "source": [
    "train = pd.read_csv(\"/kaggle/input/ue21cs342aa2/train.csv\", index_col =0 )\n",
    "test = pd.read_csv(\"/kaggle/input/ue21cs342aa2/test.csv\",)"
   ]
  },
  {
   "cell_type": "code",
   "execution_count": 7,
   "id": "faa009f8",
   "metadata": {
    "execution": {
     "iopub.execute_input": "2023-11-01T18:00:33.514711Z",
     "iopub.status.busy": "2023-11-01T18:00:33.514264Z",
     "iopub.status.idle": "2023-11-01T18:00:33.539542Z",
     "shell.execute_reply": "2023-11-01T18:00:33.538233Z"
    },
    "papermill": {
     "duration": 0.118529,
     "end_time": "2023-11-01T18:00:33.542245",
     "exception": false,
     "start_time": "2023-11-01T18:00:33.423716",
     "status": "completed"
    },
    "tags": []
   },
   "outputs": [
    {
     "data": {
      "text/html": [
       "<div>\n",
       "<style scoped>\n",
       "    .dataframe tbody tr th:only-of-type {\n",
       "        vertical-align: middle;\n",
       "    }\n",
       "\n",
       "    .dataframe tbody tr th {\n",
       "        vertical-align: top;\n",
       "    }\n",
       "\n",
       "    .dataframe thead th {\n",
       "        text-align: right;\n",
       "    }\n",
       "</style>\n",
       "<table border=\"1\" class=\"dataframe\">\n",
       "  <thead>\n",
       "    <tr style=\"text-align: right;\">\n",
       "      <th></th>\n",
       "      <th>id</th>\n",
       "      <th>Date</th>\n",
       "      <th>Open</th>\n",
       "      <th>Volume</th>\n",
       "    </tr>\n",
       "  </thead>\n",
       "  <tbody>\n",
       "    <tr>\n",
       "      <th>0</th>\n",
       "      <td>0</td>\n",
       "      <td>2021-03-01</td>\n",
       "      <td>72.708331</td>\n",
       "      <td>205897600</td>\n",
       "    </tr>\n",
       "    <tr>\n",
       "      <th>1</th>\n",
       "      <td>1</td>\n",
       "      <td>2021-03-08</td>\n",
       "      <td>73.310886</td>\n",
       "      <td>214095600</td>\n",
       "    </tr>\n",
       "    <tr>\n",
       "      <th>2</th>\n",
       "      <td>2</td>\n",
       "      <td>2021-03-15</td>\n",
       "      <td>70.610119</td>\n",
       "      <td>151601700</td>\n",
       "    </tr>\n",
       "    <tr>\n",
       "      <th>3</th>\n",
       "      <td>3</td>\n",
       "      <td>2021-03-22</td>\n",
       "      <td>70.256017</td>\n",
       "      <td>193982500</td>\n",
       "    </tr>\n",
       "    <tr>\n",
       "      <th>4</th>\n",
       "      <td>4</td>\n",
       "      <td>2021-03-29</td>\n",
       "      <td>68.258324</td>\n",
       "      <td>220238400</td>\n",
       "    </tr>\n",
       "    <tr>\n",
       "      <th>...</th>\n",
       "      <td>...</td>\n",
       "      <td>...</td>\n",
       "      <td>...</td>\n",
       "      <td>...</td>\n",
       "    </tr>\n",
       "    <tr>\n",
       "      <th>95</th>\n",
       "      <td>95</td>\n",
       "      <td>2022-12-26</td>\n",
       "      <td>57.048622</td>\n",
       "      <td>224994700</td>\n",
       "    </tr>\n",
       "    <tr>\n",
       "      <th>96</th>\n",
       "      <td>96</td>\n",
       "      <td>2023-01-02</td>\n",
       "      <td>60.569661</td>\n",
       "      <td>176020500</td>\n",
       "    </tr>\n",
       "    <tr>\n",
       "      <th>97</th>\n",
       "      <td>97</td>\n",
       "      <td>2023-01-09</td>\n",
       "      <td>61.446777</td>\n",
       "      <td>181478600</td>\n",
       "    </tr>\n",
       "    <tr>\n",
       "      <th>98</th>\n",
       "      <td>98</td>\n",
       "      <td>2023-01-16</td>\n",
       "      <td>55.447711</td>\n",
       "      <td>162471700</td>\n",
       "    </tr>\n",
       "    <tr>\n",
       "      <th>99</th>\n",
       "      <td>99</td>\n",
       "      <td>2023-01-23</td>\n",
       "      <td>57.008939</td>\n",
       "      <td>178924000</td>\n",
       "    </tr>\n",
       "  </tbody>\n",
       "</table>\n",
       "<p>100 rows × 4 columns</p>\n",
       "</div>"
      ],
      "text/plain": [
       "    id        Date       Open     Volume\n",
       "0    0  2021-03-01  72.708331  205897600\n",
       "1    1  2021-03-08  73.310886  214095600\n",
       "2    2  2021-03-15  70.610119  151601700\n",
       "3    3  2021-03-22  70.256017  193982500\n",
       "4    4  2021-03-29  68.258324  220238400\n",
       "..  ..         ...        ...        ...\n",
       "95  95  2022-12-26  57.048622  224994700\n",
       "96  96  2023-01-02  60.569661  176020500\n",
       "97  97  2023-01-09  61.446777  181478600\n",
       "98  98  2023-01-16  55.447711  162471700\n",
       "99  99  2023-01-23  57.008939  178924000\n",
       "\n",
       "[100 rows x 4 columns]"
      ]
     },
     "execution_count": 7,
     "metadata": {},
     "output_type": "execute_result"
    }
   ],
   "source": [
    "test"
   ]
  },
  {
   "cell_type": "markdown",
   "id": "6ed6f7b3",
   "metadata": {
    "papermill": {
     "duration": 0.023475,
     "end_time": "2023-11-01T18:00:33.589901",
     "exception": false,
     "start_time": "2023-11-01T18:00:33.566426",
     "status": "completed"
    },
    "tags": []
   },
   "source": [
    "### Since the given data is not in timeseries format , lets convert the train data to timeseries first "
   ]
  },
  {
   "cell_type": "code",
   "execution_count": 8,
   "id": "826062c3",
   "metadata": {
    "execution": {
     "iopub.execute_input": "2023-11-01T18:00:33.638888Z",
     "iopub.status.busy": "2023-11-01T18:00:33.638448Z",
     "iopub.status.idle": "2023-11-01T18:00:33.661781Z",
     "shell.execute_reply": "2023-11-01T18:00:33.660569Z"
    },
    "papermill": {
     "duration": 0.050784,
     "end_time": "2023-11-01T18:00:33.664355",
     "exception": false,
     "start_time": "2023-11-01T18:00:33.613571",
     "status": "completed"
    },
    "tags": []
   },
   "outputs": [
    {
     "data": {
      "text/html": [
       "<div>\n",
       "<style scoped>\n",
       "    .dataframe tbody tr th:only-of-type {\n",
       "        vertical-align: middle;\n",
       "    }\n",
       "\n",
       "    .dataframe tbody tr th {\n",
       "        vertical-align: top;\n",
       "    }\n",
       "\n",
       "    .dataframe thead th {\n",
       "        text-align: right;\n",
       "    }\n",
       "</style>\n",
       "<table border=\"1\" class=\"dataframe\">\n",
       "  <thead>\n",
       "    <tr style=\"text-align: right;\">\n",
       "      <th></th>\n",
       "      <th>Open</th>\n",
       "      <th>Close</th>\n",
       "      <th>Volume</th>\n",
       "      <th>Strategy</th>\n",
       "    </tr>\n",
       "    <tr>\n",
       "      <th>Date</th>\n",
       "      <th></th>\n",
       "      <th></th>\n",
       "      <th></th>\n",
       "      <th></th>\n",
       "    </tr>\n",
       "  </thead>\n",
       "  <tbody>\n",
       "    <tr>\n",
       "      <th>2015-06-01</th>\n",
       "      <td>66.208486</td>\n",
       "      <td>75.609978</td>\n",
       "      <td>298506300</td>\n",
       "      <td>Hold</td>\n",
       "    </tr>\n",
       "    <tr>\n",
       "      <th>2015-06-08</th>\n",
       "      <td>64.116235</td>\n",
       "      <td>74.443331</td>\n",
       "      <td>227974800</td>\n",
       "      <td>Hold</td>\n",
       "    </tr>\n",
       "    <tr>\n",
       "      <th>2015-06-15</th>\n",
       "      <td>47.701942</td>\n",
       "      <td>71.140831</td>\n",
       "      <td>250670900</td>\n",
       "      <td>Buy</td>\n",
       "    </tr>\n",
       "    <tr>\n",
       "      <th>2015-06-22</th>\n",
       "      <td>54.754816</td>\n",
       "      <td>72.881344</td>\n",
       "      <td>223614300</td>\n",
       "      <td>Hold</td>\n",
       "    </tr>\n",
       "    <tr>\n",
       "      <th>2015-06-29</th>\n",
       "      <td>48.031899</td>\n",
       "      <td>66.284718</td>\n",
       "      <td>406814900</td>\n",
       "      <td>Buy</td>\n",
       "    </tr>\n",
       "    <tr>\n",
       "      <th>...</th>\n",
       "      <td>...</td>\n",
       "      <td>...</td>\n",
       "      <td>...</td>\n",
       "      <td>...</td>\n",
       "    </tr>\n",
       "    <tr>\n",
       "      <th>2021-01-25</th>\n",
       "      <td>81.284821</td>\n",
       "      <td>83.373498</td>\n",
       "      <td>117281600</td>\n",
       "      <td>Sell</td>\n",
       "    </tr>\n",
       "    <tr>\n",
       "      <th>2021-02-01</th>\n",
       "      <td>71.970249</td>\n",
       "      <td>85.294903</td>\n",
       "      <td>177655800</td>\n",
       "      <td>Sell</td>\n",
       "    </tr>\n",
       "    <tr>\n",
       "      <th>2021-02-08</th>\n",
       "      <td>71.784627</td>\n",
       "      <td>83.266453</td>\n",
       "      <td>146003500</td>\n",
       "      <td>Hold</td>\n",
       "    </tr>\n",
       "    <tr>\n",
       "      <th>2021-02-15</th>\n",
       "      <td>69.372333</td>\n",
       "      <td>81.026827</td>\n",
       "      <td>167762500</td>\n",
       "      <td>Hold</td>\n",
       "    </tr>\n",
       "    <tr>\n",
       "      <th>2021-02-22</th>\n",
       "      <td>69.618620</td>\n",
       "      <td>78.672007</td>\n",
       "      <td>332979200</td>\n",
       "      <td>Hold</td>\n",
       "    </tr>\n",
       "  </tbody>\n",
       "</table>\n",
       "<p>300 rows × 4 columns</p>\n",
       "</div>"
      ],
      "text/plain": [
       "                 Open      Close     Volume Strategy\n",
       "Date                                                \n",
       "2015-06-01  66.208486  75.609978  298506300     Hold\n",
       "2015-06-08  64.116235  74.443331  227974800     Hold\n",
       "2015-06-15  47.701942  71.140831  250670900      Buy\n",
       "2015-06-22  54.754816  72.881344  223614300     Hold\n",
       "2015-06-29  48.031899  66.284718  406814900      Buy\n",
       "...               ...        ...        ...      ...\n",
       "2021-01-25  81.284821  83.373498  117281600     Sell\n",
       "2021-02-01  71.970249  85.294903  177655800     Sell\n",
       "2021-02-08  71.784627  83.266453  146003500     Hold\n",
       "2021-02-15  69.372333  81.026827  167762500     Hold\n",
       "2021-02-22  69.618620  78.672007  332979200     Hold\n",
       "\n",
       "[300 rows x 4 columns]"
      ]
     },
     "execution_count": 8,
     "metadata": {},
     "output_type": "execute_result"
    }
   ],
   "source": [
    "train['Date'] = pd.to_datetime(train['Date'])\n",
    "train.set_index('Date',inplace=True)\n",
    "train"
   ]
  },
  {
   "cell_type": "markdown",
   "id": "5736d6d1",
   "metadata": {
    "papermill": {
     "duration": 0.024118,
     "end_time": "2023-11-01T18:00:33.712505",
     "exception": false,
     "start_time": "2023-11-01T18:00:33.688387",
     "status": "completed"
    },
    "tags": []
   },
   "source": [
    "### Next , we drop the Strategy Column (categorical data) from the train dataset as it helps us to build models with the numerical data. \n",
    "\n",
    "### We will first predict the Close prices and then predict the corresponding Strategy. "
   ]
  },
  {
   "cell_type": "code",
   "execution_count": 9,
   "id": "360f07aa",
   "metadata": {
    "execution": {
     "iopub.execute_input": "2023-11-01T18:00:33.761993Z",
     "iopub.status.busy": "2023-11-01T18:00:33.761561Z",
     "iopub.status.idle": "2023-11-01T18:00:33.767573Z",
     "shell.execute_reply": "2023-11-01T18:00:33.766769Z"
    },
    "papermill": {
     "duration": 0.033902,
     "end_time": "2023-11-01T18:00:33.770194",
     "exception": false,
     "start_time": "2023-11-01T18:00:33.736292",
     "status": "completed"
    },
    "tags": []
   },
   "outputs": [],
   "source": [
    "train_data=train.drop(['Strategy'],axis=1)"
   ]
  },
  {
   "cell_type": "code",
   "execution_count": 10,
   "id": "1be5ef01",
   "metadata": {
    "execution": {
     "iopub.execute_input": "2023-11-01T18:00:33.821067Z",
     "iopub.status.busy": "2023-11-01T18:00:33.820666Z",
     "iopub.status.idle": "2023-11-01T18:00:33.835729Z",
     "shell.execute_reply": "2023-11-01T18:00:33.834684Z"
    },
    "papermill": {
     "duration": 0.043448,
     "end_time": "2023-11-01T18:00:33.838258",
     "exception": false,
     "start_time": "2023-11-01T18:00:33.794810",
     "status": "completed"
    },
    "tags": []
   },
   "outputs": [
    {
     "data": {
      "text/html": [
       "<div>\n",
       "<style scoped>\n",
       "    .dataframe tbody tr th:only-of-type {\n",
       "        vertical-align: middle;\n",
       "    }\n",
       "\n",
       "    .dataframe tbody tr th {\n",
       "        vertical-align: top;\n",
       "    }\n",
       "\n",
       "    .dataframe thead th {\n",
       "        text-align: right;\n",
       "    }\n",
       "</style>\n",
       "<table border=\"1\" class=\"dataframe\">\n",
       "  <thead>\n",
       "    <tr style=\"text-align: right;\">\n",
       "      <th></th>\n",
       "      <th>id</th>\n",
       "      <th>Date</th>\n",
       "      <th>Open</th>\n",
       "      <th>Volume</th>\n",
       "    </tr>\n",
       "  </thead>\n",
       "  <tbody>\n",
       "    <tr>\n",
       "      <th>0</th>\n",
       "      <td>0</td>\n",
       "      <td>2021-03-01</td>\n",
       "      <td>72.708331</td>\n",
       "      <td>205897600</td>\n",
       "    </tr>\n",
       "    <tr>\n",
       "      <th>1</th>\n",
       "      <td>1</td>\n",
       "      <td>2021-03-08</td>\n",
       "      <td>73.310886</td>\n",
       "      <td>214095600</td>\n",
       "    </tr>\n",
       "    <tr>\n",
       "      <th>2</th>\n",
       "      <td>2</td>\n",
       "      <td>2021-03-15</td>\n",
       "      <td>70.610119</td>\n",
       "      <td>151601700</td>\n",
       "    </tr>\n",
       "    <tr>\n",
       "      <th>3</th>\n",
       "      <td>3</td>\n",
       "      <td>2021-03-22</td>\n",
       "      <td>70.256017</td>\n",
       "      <td>193982500</td>\n",
       "    </tr>\n",
       "    <tr>\n",
       "      <th>4</th>\n",
       "      <td>4</td>\n",
       "      <td>2021-03-29</td>\n",
       "      <td>68.258324</td>\n",
       "      <td>220238400</td>\n",
       "    </tr>\n",
       "    <tr>\n",
       "      <th>...</th>\n",
       "      <td>...</td>\n",
       "      <td>...</td>\n",
       "      <td>...</td>\n",
       "      <td>...</td>\n",
       "    </tr>\n",
       "    <tr>\n",
       "      <th>95</th>\n",
       "      <td>95</td>\n",
       "      <td>2022-12-26</td>\n",
       "      <td>57.048622</td>\n",
       "      <td>224994700</td>\n",
       "    </tr>\n",
       "    <tr>\n",
       "      <th>96</th>\n",
       "      <td>96</td>\n",
       "      <td>2023-01-02</td>\n",
       "      <td>60.569661</td>\n",
       "      <td>176020500</td>\n",
       "    </tr>\n",
       "    <tr>\n",
       "      <th>97</th>\n",
       "      <td>97</td>\n",
       "      <td>2023-01-09</td>\n",
       "      <td>61.446777</td>\n",
       "      <td>181478600</td>\n",
       "    </tr>\n",
       "    <tr>\n",
       "      <th>98</th>\n",
       "      <td>98</td>\n",
       "      <td>2023-01-16</td>\n",
       "      <td>55.447711</td>\n",
       "      <td>162471700</td>\n",
       "    </tr>\n",
       "    <tr>\n",
       "      <th>99</th>\n",
       "      <td>99</td>\n",
       "      <td>2023-01-23</td>\n",
       "      <td>57.008939</td>\n",
       "      <td>178924000</td>\n",
       "    </tr>\n",
       "  </tbody>\n",
       "</table>\n",
       "<p>100 rows × 4 columns</p>\n",
       "</div>"
      ],
      "text/plain": [
       "    id        Date       Open     Volume\n",
       "0    0  2021-03-01  72.708331  205897600\n",
       "1    1  2021-03-08  73.310886  214095600\n",
       "2    2  2021-03-15  70.610119  151601700\n",
       "3    3  2021-03-22  70.256017  193982500\n",
       "4    4  2021-03-29  68.258324  220238400\n",
       "..  ..         ...        ...        ...\n",
       "95  95  2022-12-26  57.048622  224994700\n",
       "96  96  2023-01-02  60.569661  176020500\n",
       "97  97  2023-01-09  61.446777  181478600\n",
       "98  98  2023-01-16  55.447711  162471700\n",
       "99  99  2023-01-23  57.008939  178924000\n",
       "\n",
       "[100 rows x 4 columns]"
      ]
     },
     "execution_count": 10,
     "metadata": {},
     "output_type": "execute_result"
    }
   ],
   "source": [
    "test"
   ]
  },
  {
   "cell_type": "markdown",
   "id": "e99db947",
   "metadata": {
    "papermill": {
     "duration": 0.024133,
     "end_time": "2023-11-01T18:00:33.887072",
     "exception": false,
     "start_time": "2023-11-01T18:00:33.862939",
     "status": "completed"
    },
    "tags": []
   },
   "source": [
    "### Lets convert the test data also to timeseries format "
   ]
  },
  {
   "cell_type": "code",
   "execution_count": 11,
   "id": "51c6985a",
   "metadata": {
    "execution": {
     "iopub.execute_input": "2023-11-01T18:00:33.937763Z",
     "iopub.status.busy": "2023-11-01T18:00:33.937330Z",
     "iopub.status.idle": "2023-11-01T18:00:33.954578Z",
     "shell.execute_reply": "2023-11-01T18:00:33.953221Z"
    },
    "papermill": {
     "duration": 0.04557,
     "end_time": "2023-11-01T18:00:33.957205",
     "exception": false,
     "start_time": "2023-11-01T18:00:33.911635",
     "status": "completed"
    },
    "tags": []
   },
   "outputs": [
    {
     "data": {
      "text/html": [
       "<div>\n",
       "<style scoped>\n",
       "    .dataframe tbody tr th:only-of-type {\n",
       "        vertical-align: middle;\n",
       "    }\n",
       "\n",
       "    .dataframe tbody tr th {\n",
       "        vertical-align: top;\n",
       "    }\n",
       "\n",
       "    .dataframe thead th {\n",
       "        text-align: right;\n",
       "    }\n",
       "</style>\n",
       "<table border=\"1\" class=\"dataframe\">\n",
       "  <thead>\n",
       "    <tr style=\"text-align: right;\">\n",
       "      <th></th>\n",
       "      <th>id</th>\n",
       "      <th>Open</th>\n",
       "      <th>Volume</th>\n",
       "    </tr>\n",
       "    <tr>\n",
       "      <th>Date</th>\n",
       "      <th></th>\n",
       "      <th></th>\n",
       "      <th></th>\n",
       "    </tr>\n",
       "  </thead>\n",
       "  <tbody>\n",
       "    <tr>\n",
       "      <th>2021-03-01</th>\n",
       "      <td>0</td>\n",
       "      <td>72.708331</td>\n",
       "      <td>205897600</td>\n",
       "    </tr>\n",
       "    <tr>\n",
       "      <th>2021-03-08</th>\n",
       "      <td>1</td>\n",
       "      <td>73.310886</td>\n",
       "      <td>214095600</td>\n",
       "    </tr>\n",
       "    <tr>\n",
       "      <th>2021-03-15</th>\n",
       "      <td>2</td>\n",
       "      <td>70.610119</td>\n",
       "      <td>151601700</td>\n",
       "    </tr>\n",
       "    <tr>\n",
       "      <th>2021-03-22</th>\n",
       "      <td>3</td>\n",
       "      <td>70.256017</td>\n",
       "      <td>193982500</td>\n",
       "    </tr>\n",
       "    <tr>\n",
       "      <th>2021-03-29</th>\n",
       "      <td>4</td>\n",
       "      <td>68.258324</td>\n",
       "      <td>220238400</td>\n",
       "    </tr>\n",
       "    <tr>\n",
       "      <th>...</th>\n",
       "      <td>...</td>\n",
       "      <td>...</td>\n",
       "      <td>...</td>\n",
       "    </tr>\n",
       "    <tr>\n",
       "      <th>2022-12-26</th>\n",
       "      <td>95</td>\n",
       "      <td>57.048622</td>\n",
       "      <td>224994700</td>\n",
       "    </tr>\n",
       "    <tr>\n",
       "      <th>2023-01-02</th>\n",
       "      <td>96</td>\n",
       "      <td>60.569661</td>\n",
       "      <td>176020500</td>\n",
       "    </tr>\n",
       "    <tr>\n",
       "      <th>2023-01-09</th>\n",
       "      <td>97</td>\n",
       "      <td>61.446777</td>\n",
       "      <td>181478600</td>\n",
       "    </tr>\n",
       "    <tr>\n",
       "      <th>2023-01-16</th>\n",
       "      <td>98</td>\n",
       "      <td>55.447711</td>\n",
       "      <td>162471700</td>\n",
       "    </tr>\n",
       "    <tr>\n",
       "      <th>2023-01-23</th>\n",
       "      <td>99</td>\n",
       "      <td>57.008939</td>\n",
       "      <td>178924000</td>\n",
       "    </tr>\n",
       "  </tbody>\n",
       "</table>\n",
       "<p>100 rows × 3 columns</p>\n",
       "</div>"
      ],
      "text/plain": [
       "            id       Open     Volume\n",
       "Date                                \n",
       "2021-03-01   0  72.708331  205897600\n",
       "2021-03-08   1  73.310886  214095600\n",
       "2021-03-15   2  70.610119  151601700\n",
       "2021-03-22   3  70.256017  193982500\n",
       "2021-03-29   4  68.258324  220238400\n",
       "...         ..        ...        ...\n",
       "2022-12-26  95  57.048622  224994700\n",
       "2023-01-02  96  60.569661  176020500\n",
       "2023-01-09  97  61.446777  181478600\n",
       "2023-01-16  98  55.447711  162471700\n",
       "2023-01-23  99  57.008939  178924000\n",
       "\n",
       "[100 rows x 3 columns]"
      ]
     },
     "execution_count": 11,
     "metadata": {},
     "output_type": "execute_result"
    }
   ],
   "source": [
    "test['Date'] = pd.to_datetime(test['Date'])\n",
    "test.set_index('Date',inplace=True)\n",
    "test"
   ]
  },
  {
   "cell_type": "markdown",
   "id": "b5740df9",
   "metadata": {
    "papermill": {
     "duration": 0.02437,
     "end_time": "2023-11-01T18:00:34.006782",
     "exception": false,
     "start_time": "2023-11-01T18:00:33.982412",
     "status": "completed"
    },
    "tags": []
   },
   "source": [
    "### In order for to predict the Close price better , let us add create another feature . \n",
    "### The new feature we will be creating is Exponential Moving Average with respect to the Open Price\n",
    "### The EMA places more weight on recent prices, which means that it reacts more quickly to price changes and trends. This responsiveness to recent data can be especially useful for short-term trading strategies and technical analysis in financial markets."
   ]
  },
  {
   "cell_type": "markdown",
   "id": "293a4b4d",
   "metadata": {
    "papermill": {
     "duration": 0.024371,
     "end_time": "2023-11-01T18:00:34.056055",
     "exception": false,
     "start_time": "2023-11-01T18:00:34.031684",
     "status": "completed"
    },
    "tags": []
   },
   "source": [
    "### Next we will create 3 new features with respect to Open price again - Open_Lag_1 , Open_Lag_2 , Open_Lag_3\n",
    "### \"Lags\" refer to the number of past time periods or data points that are used to create lagged values of a variable\n",
    "###  Lagged values are essentially delayed or shifted versions of the original variable, where the lag specifies how many time periods back you want to look."
   ]
  },
  {
   "cell_type": "markdown",
   "id": "84342f00",
   "metadata": {
    "papermill": {
     "duration": 0.024305,
     "end_time": "2023-11-01T18:00:34.104908",
     "exception": false,
     "start_time": "2023-11-01T18:00:34.080603",
     "status": "completed"
    },
    "tags": []
   },
   "source": [
    "### Let us visualise how the train data is distributed next"
   ]
  },
  {
   "cell_type": "code",
   "execution_count": 12,
   "id": "a2bbdcff",
   "metadata": {
    "execution": {
     "iopub.execute_input": "2023-11-01T18:00:34.158171Z",
     "iopub.status.busy": "2023-11-01T18:00:34.157783Z",
     "iopub.status.idle": "2023-11-01T18:00:34.628598Z",
     "shell.execute_reply": "2023-11-01T18:00:34.627257Z"
    },
    "papermill": {
     "duration": 0.501083,
     "end_time": "2023-11-01T18:00:34.631662",
     "exception": false,
     "start_time": "2023-11-01T18:00:34.130579",
     "status": "completed"
    },
    "tags": []
   },
   "outputs": [
    {
     "data": {
      "image/png": "[encoded data removed]",
      "text/plain": [
       "<Figure size 1200x600 with 1 Axes>"
      ]
     },
     "metadata": {},
     "output_type": "display_data"
    }
   ],
   "source": [
    "plt.figure(figsize=(12,6))\n",
    "plt.plot(train.index, train['Close'], label='Time Series Data')\n",
    "plt.xlabel('Date')\n",
    "plt.ylabel('Value')\n",
    "plt.title('Time Series Plot')\n",
    "plt.grid(True)\n",
    "plt.legend()\n",
    "plt.show()"
   ]
  },
  {
   "cell_type": "markdown",
   "id": "ad3ea221",
   "metadata": {
    "papermill": {
     "duration": 0.025757,
     "end_time": "2023-11-01T18:00:34.683595",
     "exception": false,
     "start_time": "2023-11-01T18:00:34.657838",
     "status": "completed"
    },
    "tags": []
   },
   "source": [
    "## Now , Let us check if the data is stationary or not. \n",
    "\n",
    "### If the data is stationary , we can further build different kinds of models. \n",
    "\n",
    "### If the data is not stationary , we first have to convert the data into stationary form and then go on with building models.\n",
    "\n",
    "## We will conduct a test called Augmented Dickey Fuller Test which will help us determine if the data is stationary or not."
   ]
  },
  {
   "cell_type": "markdown",
   "id": "f6100e6d",
   "metadata": {
    "papermill": {
     "duration": 0.026504,
     "end_time": "2023-11-01T18:00:34.736761",
     "exception": false,
     "start_time": "2023-11-01T18:00:34.710257",
     "status": "completed"
    },
    "tags": []
   },
   "source": [
    "### The Null Hypothesis in this case is H0: ψ = 0 implies the time series is non-stationary\n",
    "### The Alternate Hypothesis in this case is HA: ψ < 0 (the time series is stationary)"
   ]
  },
  {
   "cell_type": "code",
   "execution_count": 13,
   "id": "dd8d85dc",
   "metadata": {
    "execution": {
     "iopub.execute_input": "2023-11-01T18:00:34.790877Z",
     "iopub.status.busy": "2023-11-01T18:00:34.789921Z",
     "iopub.status.idle": "2023-11-01T18:00:34.823611Z",
     "shell.execute_reply": "2023-11-01T18:00:34.822527Z"
    },
    "papermill": {
     "duration": 0.063289,
     "end_time": "2023-11-01T18:00:34.825974",
     "exception": false,
     "start_time": "2023-11-01T18:00:34.762685",
     "status": "completed"
    },
    "tags": []
   },
   "outputs": [
    {
     "data": {
      "text/plain": [
       "Test Statistic                  -1.808006\n",
       "p-value                          0.376494\n",
       "#Lags Used                       1.000000\n",
       "Number of Observations used    298.000000\n",
       "dtype: float64"
      ]
     },
     "execution_count": 13,
     "metadata": {},
     "output_type": "execute_result"
    }
   ],
   "source": [
    "t = sm.tsa.adfuller(train['Close'], autolag='AIC')\n",
    "pd.Series(t[0:4], index=['Test Statistic','p-value','#Lags Used','Number of Observations used'])"
   ]
  },
  {
   "cell_type": "markdown",
   "id": "6e48e8f9",
   "metadata": {
    "papermill": {
     "duration": 0.026061,
     "end_time": "2023-11-01T18:00:34.878392",
     "exception": false,
     "start_time": "2023-11-01T18:00:34.852331",
     "status": "completed"
    },
    "tags": []
   },
   "source": [
    "### From the above ADF Test we can conclude that we fail to reject the NULL Hypothesis which implies the time series is non stationary because The Test Statistic value is equal to -1.8 The more negative this value is , the stronger is the evidence for stationarity of the data\n",
    "### The p value for the test conducted is equal to 0.3 which is very high.Since the p-value is high, we don't have enough evidence to accept the alternative hypothesis.\n",
    "### Thus we fail to reject the NULL Hypothesis implying the time series is Non Stationary"
   ]
  },
  {
   "cell_type": "markdown",
   "id": "84a596bd",
   "metadata": {
    "papermill": {
     "duration": 0.025952,
     "end_time": "2023-11-01T18:00:34.930535",
     "exception": false,
     "start_time": "2023-11-01T18:00:34.904583",
     "status": "completed"
    },
    "tags": []
   },
   "source": [
    "### To convert the non stationary data to stationary data , we differenttiate the data. First we will try a differentiation of the order of 1 and re conduct the ADF test."
   ]
  },
  {
   "cell_type": "code",
   "execution_count": 14,
   "id": "116e5d98",
   "metadata": {
    "execution": {
     "iopub.execute_input": "2023-11-01T18:00:34.985632Z",
     "iopub.status.busy": "2023-11-01T18:00:34.985001Z",
     "iopub.status.idle": "2023-11-01T18:00:34.993323Z",
     "shell.execute_reply": "2023-11-01T18:00:34.992506Z"
    },
    "papermill": {
     "duration": 0.038979,
     "end_time": "2023-11-01T18:00:34.996145",
     "exception": false,
     "start_time": "2023-11-01T18:00:34.957166",
     "status": "completed"
    },
    "tags": []
   },
   "outputs": [],
   "source": [
    "train['differenced_values'] = train['Close'].diff(1)\n",
    "train.dropna(inplace=True)"
   ]
  },
  {
   "cell_type": "code",
   "execution_count": 15,
   "id": "b5a112c2",
   "metadata": {
    "execution": {
     "iopub.execute_input": "2023-11-01T18:00:35.051663Z",
     "iopub.status.busy": "2023-11-01T18:00:35.051185Z",
     "iopub.status.idle": "2023-11-01T18:00:35.073791Z",
     "shell.execute_reply": "2023-11-01T18:00:35.072564Z"
    },
    "papermill": {
     "duration": 0.053992,
     "end_time": "2023-11-01T18:00:35.076342",
     "exception": false,
     "start_time": "2023-11-01T18:00:35.022350",
     "status": "completed"
    },
    "tags": []
   },
   "outputs": [
    {
     "data": {
      "text/plain": [
       "Test Statistic                 -19.615948\n",
       "p-value                          0.000000\n",
       "#Lags Used                       0.000000\n",
       "Number of Observations used    298.000000\n",
       "dtype: float64"
      ]
     },
     "execution_count": 15,
     "metadata": {},
     "output_type": "execute_result"
    }
   ],
   "source": [
    "t = sm.tsa.adfuller(train['differenced_values'], autolag='AIC')\n",
    "pd.Series(t[0:4], index=['Test Statistic','p-value','#Lags Used','Number of Observations used'])"
   ]
  },
  {
   "cell_type": "markdown",
   "id": "7ceb0935",
   "metadata": {
    "papermill": {
     "duration": 0.025973,
     "end_time": "2023-11-01T18:00:35.128643",
     "exception": false,
     "start_time": "2023-11-01T18:00:35.102670",
     "status": "completed"
    },
    "tags": []
   },
   "source": [
    "### From the above ADF test we can see that the test statictic is much higher than the previous value.\n",
    "### The p value is also less than 0.05 which means single order differencing worked here and the data is stationary now."
   ]
  },
  {
   "cell_type": "markdown",
   "id": "e02ded4d",
   "metadata": {
    "papermill": {
     "duration": 0.026174,
     "end_time": "2023-11-01T18:00:35.181163",
     "exception": false,
     "start_time": "2023-11-01T18:00:35.154989",
     "status": "completed"
    },
    "tags": []
   },
   "source": [
    "### Therefore d = 1"
   ]
  },
  {
   "cell_type": "markdown",
   "id": "4d92bc66",
   "metadata": {
    "papermill": {
     "duration": 0.025991,
     "end_time": "2023-11-01T18:00:35.233710",
     "exception": false,
     "start_time": "2023-11-01T18:00:35.207719",
     "status": "completed"
    },
    "tags": []
   },
   "source": [
    "### Next let us use auto-correlation plots and determine the required values of p and q for building AR , MA, ARIMA , ARIMAX , SARIMA , SARIMAX models"
   ]
  },
  {
   "cell_type": "code",
   "execution_count": 16,
   "id": "90efc502",
   "metadata": {
    "execution": {
     "iopub.execute_input": "2023-11-01T18:00:35.288012Z",
     "iopub.status.busy": "2023-11-01T18:00:35.287626Z",
     "iopub.status.idle": "2023-11-01T18:00:35.601031Z",
     "shell.execute_reply": "2023-11-01T18:00:35.599812Z"
    },
    "papermill": {
     "duration": 0.343599,
     "end_time": "2023-11-01T18:00:35.603459",
     "exception": false,
     "start_time": "2023-11-01T18:00:35.259860",
     "status": "completed"
    },
    "tags": []
   },
   "outputs": [
    {
     "name": "stdout",
     "output_type": "stream",
     "text": [
      "ACF plot\n"
     ]
    },
    {
     "data": {
      "image/png": "[encoded data removed]",
      "text/plain": [
       "<Figure size 640x480 with 1 Axes>"
      ]
     },
     "metadata": {},
     "output_type": "display_data"
    }
   ],
   "source": [
    "from statsmodels.graphics.tsaplots import plot_acf, plot_pacf\n",
    "print(\"ACF plot\")\n",
    "plot_acf(train.differenced_values,lags=50)\n",
    "plt.show()"
   ]
  },
  {
   "cell_type": "markdown",
   "id": "ac32fc0c",
   "metadata": {
    "papermill": {
     "duration": 0.026233,
     "end_time": "2023-11-01T18:00:35.656384",
     "exception": false,
     "start_time": "2023-11-01T18:00:35.630151",
     "status": "completed"
    },
    "tags": []
   },
   "source": [
    "#### From the above graph , we can interpret that the q value is equal to 1 since spikes decay to 0 after a lag value of 1 ."
   ]
  },
  {
   "cell_type": "code",
   "execution_count": 17,
   "id": "7686b19f",
   "metadata": {
    "execution": {
     "iopub.execute_input": "2023-11-01T18:00:35.712127Z",
     "iopub.status.busy": "2023-11-01T18:00:35.711696Z",
     "iopub.status.idle": "2023-11-01T18:00:36.067854Z",
     "shell.execute_reply": "2023-11-01T18:00:36.066391Z"
    },
    "papermill": {
     "duration": 0.387146,
     "end_time": "2023-11-01T18:00:36.070566",
     "exception": false,
     "start_time": "2023-11-01T18:00:35.683420",
     "status": "completed"
    },
    "tags": []
   },
   "outputs": [
    {
     "name": "stdout",
     "output_type": "stream",
     "text": [
      "PACF plot\n"
     ]
    },
    {
     "data": {
      "image/png": "[encoded data removed]",
      "text/plain": [
       "<Figure size 640x480 with 1 Axes>"
      ]
     },
     "metadata": {},
     "output_type": "display_data"
    }
   ],
   "source": [
    "plot_pacf(train.Close,lags=50,method='ywm')\n",
    "print(\"PACF plot\")\n",
    "plt.show()"
   ]
  },
  {
   "cell_type": "markdown",
   "id": "6bcd2cee",
   "metadata": {
    "papermill": {
     "duration": 0.027184,
     "end_time": "2023-11-01T18:00:36.125886",
     "exception": false,
     "start_time": "2023-11-01T18:00:36.098702",
     "status": "completed"
    },
    "tags": []
   },
   "source": [
    "#### From the above graph , we can interpret that the p value is equal to 2 since spikes decay to 0 after a lag value of 2 ."
   ]
  },
  {
   "cell_type": "markdown",
   "id": "dd1bbebe",
   "metadata": {
    "papermill": {
     "duration": 0.027287,
     "end_time": "2023-11-01T18:00:36.181083",
     "exception": false,
     "start_time": "2023-11-01T18:00:36.153796",
     "status": "completed"
    },
    "tags": []
   },
   "source": [
    "### The above p and q and d values which we detemined might not be the optimal values. Therefore we make use of auto arima model which helps us determine the optimal p,d,q values from a range of values. We select the p,d,q values with the lowest AIC value.\n",
    "### The Akaike Information Criterion (AIC) is a statistical measure used for model selection and comparison in the context of regression analysis and time series modeling. AIC quantifies the trade-off between a model's goodness of fit and its complexity, penalizing models with too many parameters. It is employed to choose the best-fitting model among a set of candidate models. The model with the lowest AIC value is typically preferred because it represents a good balance between explaining the data and avoiding overfitting."
   ]
  },
  {
   "cell_type": "code",
   "execution_count": 18,
   "id": "8b893c1a",
   "metadata": {
    "execution": {
     "iopub.execute_input": "2023-11-01T18:00:36.237918Z",
     "iopub.status.busy": "2023-11-01T18:00:36.237119Z",
     "iopub.status.idle": "2023-11-01T18:00:36.251301Z",
     "shell.execute_reply": "2023-11-01T18:00:36.250257Z"
    },
    "papermill": {
     "duration": 0.04514,
     "end_time": "2023-11-01T18:00:36.253516",
     "exception": false,
     "start_time": "2023-11-01T18:00:36.208376",
     "status": "completed"
    },
    "tags": []
   },
   "outputs": [
    {
     "data": {
      "text/html": [
       "<div>\n",
       "<style scoped>\n",
       "    .dataframe tbody tr th:only-of-type {\n",
       "        vertical-align: middle;\n",
       "    }\n",
       "\n",
       "    .dataframe tbody tr th {\n",
       "        vertical-align: top;\n",
       "    }\n",
       "\n",
       "    .dataframe thead th {\n",
       "        text-align: right;\n",
       "    }\n",
       "</style>\n",
       "<table border=\"1\" class=\"dataframe\">\n",
       "  <thead>\n",
       "    <tr style=\"text-align: right;\">\n",
       "      <th></th>\n",
       "      <th>Open</th>\n",
       "      <th>Close</th>\n",
       "      <th>Volume</th>\n",
       "    </tr>\n",
       "    <tr>\n",
       "      <th>Date</th>\n",
       "      <th></th>\n",
       "      <th></th>\n",
       "      <th></th>\n",
       "    </tr>\n",
       "  </thead>\n",
       "  <tbody>\n",
       "    <tr>\n",
       "      <th>2015-06-01</th>\n",
       "      <td>66.208486</td>\n",
       "      <td>75.609978</td>\n",
       "      <td>298506300</td>\n",
       "    </tr>\n",
       "    <tr>\n",
       "      <th>2015-06-08</th>\n",
       "      <td>64.116235</td>\n",
       "      <td>74.443331</td>\n",
       "      <td>227974800</td>\n",
       "    </tr>\n",
       "    <tr>\n",
       "      <th>2015-06-15</th>\n",
       "      <td>47.701942</td>\n",
       "      <td>71.140831</td>\n",
       "      <td>250670900</td>\n",
       "    </tr>\n",
       "    <tr>\n",
       "      <th>2015-06-22</th>\n",
       "      <td>54.754816</td>\n",
       "      <td>72.881344</td>\n",
       "      <td>223614300</td>\n",
       "    </tr>\n",
       "    <tr>\n",
       "      <th>2015-06-29</th>\n",
       "      <td>48.031899</td>\n",
       "      <td>66.284718</td>\n",
       "      <td>406814900</td>\n",
       "    </tr>\n",
       "    <tr>\n",
       "      <th>...</th>\n",
       "      <td>...</td>\n",
       "      <td>...</td>\n",
       "      <td>...</td>\n",
       "    </tr>\n",
       "    <tr>\n",
       "      <th>2021-01-25</th>\n",
       "      <td>81.284821</td>\n",
       "      <td>83.373498</td>\n",
       "      <td>117281600</td>\n",
       "    </tr>\n",
       "    <tr>\n",
       "      <th>2021-02-01</th>\n",
       "      <td>71.970249</td>\n",
       "      <td>85.294903</td>\n",
       "      <td>177655800</td>\n",
       "    </tr>\n",
       "    <tr>\n",
       "      <th>2021-02-08</th>\n",
       "      <td>71.784627</td>\n",
       "      <td>83.266453</td>\n",
       "      <td>146003500</td>\n",
       "    </tr>\n",
       "    <tr>\n",
       "      <th>2021-02-15</th>\n",
       "      <td>69.372333</td>\n",
       "      <td>81.026827</td>\n",
       "      <td>167762500</td>\n",
       "    </tr>\n",
       "    <tr>\n",
       "      <th>2021-02-22</th>\n",
       "      <td>69.618620</td>\n",
       "      <td>78.672007</td>\n",
       "      <td>332979200</td>\n",
       "    </tr>\n",
       "  </tbody>\n",
       "</table>\n",
       "<p>300 rows × 3 columns</p>\n",
       "</div>"
      ],
      "text/plain": [
       "                 Open      Close     Volume\n",
       "Date                                       \n",
       "2015-06-01  66.208486  75.609978  298506300\n",
       "2015-06-08  64.116235  74.443331  227974800\n",
       "2015-06-15  47.701942  71.140831  250670900\n",
       "2015-06-22  54.754816  72.881344  223614300\n",
       "2015-06-29  48.031899  66.284718  406814900\n",
       "...               ...        ...        ...\n",
       "2021-01-25  81.284821  83.373498  117281600\n",
       "2021-02-01  71.970249  85.294903  177655800\n",
       "2021-02-08  71.784627  83.266453  146003500\n",
       "2021-02-15  69.372333  81.026827  167762500\n",
       "2021-02-22  69.618620  78.672007  332979200\n",
       "\n",
       "[300 rows x 3 columns]"
      ]
     },
     "execution_count": 18,
     "metadata": {},
     "output_type": "execute_result"
    }
   ],
   "source": [
    "train_data"
   ]
  },
  {
   "cell_type": "code",
   "execution_count": 19,
   "id": "7a795b51",
   "metadata": {
    "execution": {
     "iopub.execute_input": "2023-11-01T18:00:36.310836Z",
     "iopub.status.busy": "2023-11-01T18:00:36.310357Z",
     "iopub.status.idle": "2023-11-01T18:01:15.665046Z",
     "shell.execute_reply": "2023-11-01T18:01:15.663856Z"
    },
    "papermill": {
     "duration": 39.387772,
     "end_time": "2023-11-01T18:01:15.668981",
     "exception": false,
     "start_time": "2023-11-01T18:00:36.281209",
     "status": "completed"
    },
    "tags": []
   },
   "outputs": [
    {
     "name": "stdout",
     "output_type": "stream",
     "text": [
      "Performing stepwise search to minimize aic\n",
      " ARIMA(0,1,0)(0,0,0)[12] intercept   : AIC=1559.459, Time=0.14 sec\n",
      " ARIMA(1,1,0)(1,0,0)[12] intercept   : AIC=1556.675, Time=0.40 sec\n",
      " ARIMA(0,1,1)(0,0,1)[12] intercept   : AIC=1556.085, Time=0.42 sec\n",
      " ARIMA(0,1,0)(0,0,0)[12]             : AIC=1557.462, Time=0.09 sec\n",
      " ARIMA(0,1,1)(0,0,0)[12] intercept   : AIC=1556.098, Time=0.08 sec\n",
      " ARIMA(0,1,1)(1,0,1)[12] intercept   : AIC=1550.223, Time=0.83 sec\n",
      " ARIMA(0,1,1)(1,0,0)[12] intercept   : AIC=1556.545, Time=0.37 sec\n",
      " ARIMA(0,1,1)(2,0,1)[12] intercept   : AIC=1551.505, Time=3.00 sec\n",
      " ARIMA(0,1,1)(1,0,2)[12] intercept   : AIC=1551.466, Time=1.95 sec\n",
      " ARIMA(0,1,1)(0,0,2)[12] intercept   : AIC=1553.272, Time=1.27 sec\n",
      " ARIMA(0,1,1)(2,0,0)[12] intercept   : AIC=1554.511, Time=1.21 sec\n",
      " ARIMA(0,1,1)(2,0,2)[12] intercept   : AIC=inf, Time=6.38 sec\n",
      " ARIMA(0,1,0)(1,0,1)[12] intercept   : AIC=1554.161, Time=0.71 sec\n",
      " ARIMA(1,1,1)(1,0,1)[12] intercept   : AIC=1552.202, Time=1.24 sec\n",
      " ARIMA(0,1,2)(1,0,1)[12] intercept   : AIC=1552.210, Time=1.06 sec\n",
      " ARIMA(1,1,0)(1,0,1)[12] intercept   : AIC=1550.373, Time=0.91 sec\n",
      " ARIMA(1,1,2)(1,0,1)[12] intercept   : AIC=1552.658, Time=3.13 sec\n",
      " ARIMA(0,1,1)(1,0,1)[12]             : AIC=1548.229, Time=0.67 sec\n",
      " ARIMA(0,1,1)(0,0,1)[12]             : AIC=1554.086, Time=0.24 sec\n",
      " ARIMA(0,1,1)(1,0,0)[12]             : AIC=1554.547, Time=0.20 sec\n",
      " ARIMA(0,1,1)(2,0,1)[12]             : AIC=1549.516, Time=1.51 sec\n",
      " ARIMA(0,1,1)(1,0,2)[12]             : AIC=1549.478, Time=1.47 sec\n",
      " ARIMA(0,1,1)(0,0,0)[12]             : AIC=1554.104, Time=0.08 sec\n",
      " ARIMA(0,1,1)(0,0,2)[12]             : AIC=1551.285, Time=0.63 sec\n",
      " ARIMA(0,1,1)(2,0,0)[12]             : AIC=1552.521, Time=0.49 sec\n",
      " ARIMA(0,1,1)(2,0,2)[12]             : AIC=inf, Time=4.17 sec\n",
      " ARIMA(0,1,0)(1,0,1)[12]             : AIC=1552.164, Time=0.60 sec\n",
      " ARIMA(1,1,1)(1,0,1)[12]             : AIC=1550.208, Time=1.00 sec\n",
      " ARIMA(0,1,2)(1,0,1)[12]             : AIC=1550.216, Time=0.86 sec\n",
      " ARIMA(1,1,0)(1,0,1)[12]             : AIC=1548.378, Time=0.66 sec\n",
      " ARIMA(1,1,2)(1,0,1)[12]             : AIC=1550.801, Time=2.37 sec\n",
      "\n",
      "Best model:  ARIMA(0,1,1)(1,0,1)[12]          \n",
      "Total fit time: 38.230 seconds\n",
      "                                     SARIMAX Results                                      \n",
      "==========================================================================================\n",
      "Dep. Variable:                                  y   No. Observations:                  300\n",
      "Model:             SARIMAX(0, 1, 1)x(1, 0, 1, 12)   Log Likelihood                -770.114\n",
      "Date:                            Wed, 01 Nov 2023   AIC                           1548.229\n",
      "Time:                                    18:01:14   BIC                           1563.031\n",
      "Sample:                                06-01-2015   HQIC                          1554.153\n",
      "                                     - 02-22-2021                                         \n",
      "Covariance Type:                              opg                                         \n",
      "==============================================================================\n",
      "                 coef    std err          z      P>|z|      [0.025      0.975]\n",
      "------------------------------------------------------------------------------\n",
      "ma.L1         -0.1426      0.058     -2.440      0.015      -0.257      -0.028\n",
      "ar.S.L12      -0.7068      0.149     -4.756      0.000      -0.998      -0.416\n",
      "ma.S.L12       0.8481      0.118      7.171      0.000       0.616       1.080\n",
      "sigma2        10.0543      0.737     13.639      0.000       8.609      11.499\n",
      "===================================================================================\n",
      "Ljung-Box (L1) (Q):                   0.00   Jarque-Bera (JB):                 6.40\n",
      "Prob(Q):                              0.99   Prob(JB):                         0.04\n",
      "Heteroskedasticity (H):               0.82   Skew:                            -0.23\n",
      "Prob(H) (two-sided):                  0.32   Kurtosis:                         3.55\n",
      "===================================================================================\n",
      "\n",
      "Warnings:\n",
      "[1] Covariance matrix calculated using the outer product of gradients (complex-step).\n"
     ]
    },
    {
     "data": {
      "image/png": "[encoded data removed]",
      "text/plain": [
       "<Figure size 1500x800 with 4 Axes>"
      ]
     },
     "metadata": {},
     "output_type": "display_data"
    }
   ],
   "source": [
    "model_autoARIMA = auto_arima(train_data['Close'], start_p=0, start_q=0,\n",
    "                      test='adf',       # use adftest to find optimal 'd'\n",
    "                      max_p=5, max_q=5, # maximum p and q\n",
    "                      m=12,              # frequency of series\n",
    "                      d=None,           # let model determine 'd'\n",
    "                      seasonal=True,   # No Seasonality\n",
    "                      start_P=0, \n",
    "                      D=None, \n",
    "                      start_Q=0,\n",
    "                      max_P=5,max_D=5, max_Q=5, # maximum p and q\n",
    "                      \n",
    "                      trace=True,\n",
    "                      error_action='ignore',  \n",
    "                      suppress_warnings=True, \n",
    "                      stepwise=True,information_criteria='AIC')\n",
    "print(model_autoARIMA.summary())\n",
    "model_autoARIMA.plot_diagnostics(figsize=(15,8))\n",
    "plt.show()"
   ]
  },
  {
   "cell_type": "markdown",
   "id": "0a646243",
   "metadata": {
    "papermill": {
     "duration": 0.032151,
     "end_time": "2023-11-01T18:01:15.733286",
     "exception": false,
     "start_time": "2023-11-01T18:01:15.701135",
     "status": "completed"
    },
    "tags": []
   },
   "source": [
    "### Let us take a look at the summary of the model which gives us the optimal results "
   ]
  },
  {
   "cell_type": "code",
   "execution_count": 20,
   "id": "cd9132dd",
   "metadata": {
    "execution": {
     "iopub.execute_input": "2023-11-01T18:01:15.799735Z",
     "iopub.status.busy": "2023-11-01T18:01:15.798959Z",
     "iopub.status.idle": "2023-11-01T18:01:15.831592Z",
     "shell.execute_reply": "2023-11-01T18:01:15.830361Z"
    },
    "papermill": {
     "duration": 0.068884,
     "end_time": "2023-11-01T18:01:15.834160",
     "exception": false,
     "start_time": "2023-11-01T18:01:15.765276",
     "status": "completed"
    },
    "tags": []
   },
   "outputs": [
    {
     "data": {
      "text/html": [
       "<table class=\"simpletable\">\n",
       "<caption>SARIMAX Results</caption>\n",
       "<tr>\n",
       "  <th>Dep. Variable:</th>                  <td>y</td>               <th>  No. Observations:  </th>    <td>300</td>  \n",
       "</tr>\n",
       "<tr>\n",
       "  <th>Model:</th>           <td>SARIMAX(0, 1, 1)x(1, 0, 1, 12)</td> <th>  Log Likelihood     </th> <td>-770.114</td>\n",
       "</tr>\n",
       "<tr>\n",
       "  <th>Date:</th>                   <td>Wed, 01 Nov 2023</td>        <th>  AIC                </th> <td>1548.229</td>\n",
       "</tr>\n",
       "<tr>\n",
       "  <th>Time:</th>                       <td>18:01:15</td>            <th>  BIC                </th> <td>1563.031</td>\n",
       "</tr>\n",
       "<tr>\n",
       "  <th>Sample:</th>                    <td>06-01-2015</td>           <th>  HQIC               </th> <td>1554.153</td>\n",
       "</tr>\n",
       "<tr>\n",
       "  <th></th>                          <td>- 02-22-2021</td>          <th>                     </th>     <td> </td>   \n",
       "</tr>\n",
       "<tr>\n",
       "  <th>Covariance Type:</th>               <td>opg</td>              <th>                     </th>     <td> </td>   \n",
       "</tr>\n",
       "</table>\n",
       "<table class=\"simpletable\">\n",
       "<tr>\n",
       "      <td></td>        <th>coef</th>     <th>std err</th>      <th>z</th>      <th>P>|z|</th>  <th>[0.025</th>    <th>0.975]</th>  \n",
       "</tr>\n",
       "<tr>\n",
       "  <th>ma.L1</th>    <td>   -0.1426</td> <td>    0.058</td> <td>   -2.440</td> <td> 0.015</td> <td>   -0.257</td> <td>   -0.028</td>\n",
       "</tr>\n",
       "<tr>\n",
       "  <th>ar.S.L12</th> <td>   -0.7068</td> <td>    0.149</td> <td>   -4.756</td> <td> 0.000</td> <td>   -0.998</td> <td>   -0.416</td>\n",
       "</tr>\n",
       "<tr>\n",
       "  <th>ma.S.L12</th> <td>    0.8481</td> <td>    0.118</td> <td>    7.171</td> <td> 0.000</td> <td>    0.616</td> <td>    1.080</td>\n",
       "</tr>\n",
       "<tr>\n",
       "  <th>sigma2</th>   <td>   10.0543</td> <td>    0.737</td> <td>   13.639</td> <td> 0.000</td> <td>    8.609</td> <td>   11.499</td>\n",
       "</tr>\n",
       "</table>\n",
       "<table class=\"simpletable\">\n",
       "<tr>\n",
       "  <th>Ljung-Box (L1) (Q):</th>     <td>0.00</td> <th>  Jarque-Bera (JB):  </th> <td>6.40</td> \n",
       "</tr>\n",
       "<tr>\n",
       "  <th>Prob(Q):</th>                <td>0.99</td> <th>  Prob(JB):          </th> <td>0.04</td> \n",
       "</tr>\n",
       "<tr>\n",
       "  <th>Heteroskedasticity (H):</th> <td>0.82</td> <th>  Skew:              </th> <td>-0.23</td>\n",
       "</tr>\n",
       "<tr>\n",
       "  <th>Prob(H) (two-sided):</th>    <td>0.32</td> <th>  Kurtosis:          </th> <td>3.55</td> \n",
       "</tr>\n",
       "</table><br/><br/>Warnings:<br/>[1] Covariance matrix calculated using the outer product of gradients (complex-step)."
      ],
      "text/latex": [
       "\\begin{center}\n",
       "\\begin{tabular}{lclc}\n",
       "\\toprule\n",
       "\\textbf{Dep. Variable:}          &               y                & \\textbf{  No. Observations:  } &    300      \\\\\n",
       "\\textbf{Model:}                  & SARIMAX(0, 1, 1)x(1, 0, 1, 12) & \\textbf{  Log Likelihood     } &  -770.114   \\\\\n",
       "\\textbf{Date:}                   &        Wed, 01 Nov 2023        & \\textbf{  AIC                } &  1548.229   \\\\\n",
       "\\textbf{Time:}                   &            18:01:15            & \\textbf{  BIC                } &  1563.031   \\\\\n",
       "\\textbf{Sample:}                 &           06-01-2015           & \\textbf{  HQIC               } &  1554.153   \\\\\n",
       "\\textbf{}                        &          - 02-22-2021          & \\textbf{                     } &             \\\\\n",
       "\\textbf{Covariance Type:}        &              opg               & \\textbf{                     } &             \\\\\n",
       "\\bottomrule\n",
       "\\end{tabular}\n",
       "\\begin{tabular}{lcccccc}\n",
       "                  & \\textbf{coef} & \\textbf{std err} & \\textbf{z} & \\textbf{P$> |$z$|$} & \\textbf{[0.025} & \\textbf{0.975]}  \\\\\n",
       "\\midrule\n",
       "\\textbf{ma.L1}    &      -0.1426  &        0.058     &    -2.440  &         0.015        &       -0.257    &       -0.028     \\\\\n",
       "\\textbf{ar.S.L12} &      -0.7068  &        0.149     &    -4.756  &         0.000        &       -0.998    &       -0.416     \\\\\n",
       "\\textbf{ma.S.L12} &       0.8481  &        0.118     &     7.171  &         0.000        &        0.616    &        1.080     \\\\\n",
       "\\textbf{sigma2}   &      10.0543  &        0.737     &    13.639  &         0.000        &        8.609    &       11.499     \\\\\n",
       "\\bottomrule\n",
       "\\end{tabular}\n",
       "\\begin{tabular}{lclc}\n",
       "\\textbf{Ljung-Box (L1) (Q):}     & 0.00 & \\textbf{  Jarque-Bera (JB):  } &  6.40  \\\\\n",
       "\\textbf{Prob(Q):}                & 0.99 & \\textbf{  Prob(JB):          } &  0.04  \\\\\n",
       "\\textbf{Heteroskedasticity (H):} & 0.82 & \\textbf{  Skew:              } & -0.23  \\\\\n",
       "\\textbf{Prob(H) (two-sided):}    & 0.32 & \\textbf{  Kurtosis:          } &  3.55  \\\\\n",
       "\\bottomrule\n",
       "\\end{tabular}\n",
       "%\\caption{SARIMAX Results}\n",
       "\\end{center}\n",
       "\n",
       "Warnings: \\newline\n",
       " [1] Covariance matrix calculated using the outer product of gradients (complex-step)."
      ],
      "text/plain": [
       "<class 'statsmodels.iolib.summary.Summary'>\n",
       "\"\"\"\n",
       "                                     SARIMAX Results                                      \n",
       "==========================================================================================\n",
       "Dep. Variable:                                  y   No. Observations:                  300\n",
       "Model:             SARIMAX(0, 1, 1)x(1, 0, 1, 12)   Log Likelihood                -770.114\n",
       "Date:                            Wed, 01 Nov 2023   AIC                           1548.229\n",
       "Time:                                    18:01:15   BIC                           1563.031\n",
       "Sample:                                06-01-2015   HQIC                          1554.153\n",
       "                                     - 02-22-2021                                         \n",
       "Covariance Type:                              opg                                         \n",
       "==============================================================================\n",
       "                 coef    std err          z      P>|z|      [0.025      0.975]\n",
       "------------------------------------------------------------------------------\n",
       "ma.L1         -0.1426      0.058     -2.440      0.015      -0.257      -0.028\n",
       "ar.S.L12      -0.7068      0.149     -4.756      0.000      -0.998      -0.416\n",
       "ma.S.L12       0.8481      0.118      7.171      0.000       0.616       1.080\n",
       "sigma2        10.0543      0.737     13.639      0.000       8.609      11.499\n",
       "===================================================================================\n",
       "Ljung-Box (L1) (Q):                   0.00   Jarque-Bera (JB):                 6.40\n",
       "Prob(Q):                              0.99   Prob(JB):                         0.04\n",
       "Heteroskedasticity (H):               0.82   Skew:                            -0.23\n",
       "Prob(H) (two-sided):                  0.32   Kurtosis:                         3.55\n",
       "===================================================================================\n",
       "\n",
       "Warnings:\n",
       "[1] Covariance matrix calculated using the outer product of gradients (complex-step).\n",
       "\"\"\""
      ]
     },
     "execution_count": 20,
     "metadata": {},
     "output_type": "execute_result"
    }
   ],
   "source": [
    "model_autoARIMA.summary()"
   ]
  },
  {
   "cell_type": "markdown",
   "id": "eba8140c",
   "metadata": {
    "papermill": {
     "duration": 0.033639,
     "end_time": "2023-11-01T18:01:15.900638",
     "exception": false,
     "start_time": "2023-11-01T18:01:15.866999",
     "status": "completed"
    },
    "tags": []
   },
   "source": [
    "### We will be making use of the Ljung Box Test to evaluate our SARIMAX Model\n",
    "### The Ljung-Box test is a statistical test used to assess the presence of autocorrelation in a time series.\n",
    "### It is used to test the null hypothesis that there is no autocorrelation in the residuals at a specified lag or set of lags.\n",
    "### From the above summary of the SARIMAX model , we can see that the Ljung Box Test score is quite low"
   ]
  },
  {
   "cell_type": "markdown",
   "id": "18091344",
   "metadata": {
    "papermill": {
     "duration": 0.032956,
     "end_time": "2023-11-01T18:01:15.966565",
     "exception": false,
     "start_time": "2023-11-01T18:01:15.933609",
     "status": "completed"
    },
    "tags": []
   },
   "source": [
    "### Next let us build a SARIMAX model on the whole train data taking into account all of the exogeneous variables to predict the Close price "
   ]
  },
  {
   "cell_type": "code",
   "execution_count": 21,
   "id": "42b5288e",
   "metadata": {
    "execution": {
     "iopub.execute_input": "2023-11-01T18:01:16.034092Z",
     "iopub.status.busy": "2023-11-01T18:01:16.033693Z",
     "iopub.status.idle": "2023-11-01T18:01:17.304861Z",
     "shell.execute_reply": "2023-11-01T18:01:17.303277Z"
    },
    "papermill": {
     "duration": 1.311104,
     "end_time": "2023-11-01T18:01:17.310347",
     "exception": false,
     "start_time": "2023-11-01T18:01:15.999243",
     "status": "completed"
    },
    "tags": []
   },
   "outputs": [
    {
     "name": "stdout",
     "output_type": "stream",
     "text": [
      "RUNNING THE L-BFGS-B CODE\n",
      "\n",
      "           * * *\n",
      "\n",
      "Machine precision = 2.220D-16\n",
      " N =            7     M =           10\n",
      "\n",
      "At X0         0 variables are exactly at the bounds\n",
      "\n",
      "At iterate    0    f=  2.57497D+00    |proj g|=  2.45819D+09\n"
     ]
    },
    {
     "name": "stderr",
     "output_type": "stream",
     "text": [
      " This problem is unconstrained.\n"
     ]
    },
    {
     "name": "stdout",
     "output_type": "stream",
     "text": [
      "\n",
      "           * * *\n",
      "\n",
      "Tit   = total number of iterations\n",
      "Tnf   = total number of function evaluations\n",
      "Tnint = total number of segments explored during Cauchy searches\n",
      "Skip  = number of BFGS updates skipped\n",
      "Nact  = number of active bounds at final generalized Cauchy point\n",
      "Projg = norm of the final projected gradient\n",
      "F     = final function value\n",
      "\n",
      "           * * *\n",
      "\n",
      "   N    Tit     Tnf  Tnint  Skip  Nact     Projg        F\n",
      "    7      1     21      1     0     0   2.458D+09   2.575D+00\n",
      "  F =   2.5749667391070017     \n",
      "\n",
      "ABNORMAL_TERMINATION_IN_LNSRCH                              \n"
     ]
    },
    {
     "name": "stderr",
     "output_type": "stream",
     "text": [
      "\n",
      " Line search cannot locate an adequate point after MAXLS\n",
      "  function and gradient evaluations.\n",
      "  Previous x, f and g restored.\n",
      " Possible causes: 1 error in function or gradient evaluation;\n",
      "                  2 rounding error dominate computation.\n"
     ]
    },
    {
     "data": {
      "text/html": [
       "<table class=\"simpletable\">\n",
       "<caption>SARIMAX Results</caption>\n",
       "<tr>\n",
       "  <th>Dep. Variable:</th>                <td>Close</td>             <th>  No. Observations:  </th>    <td>299</td>  \n",
       "</tr>\n",
       "<tr>\n",
       "  <th>Model:</th>           <td>SARIMAX(0, 1, 1)x(1, 0, 1, 12)</td> <th>  Log Likelihood     </th> <td>-769.915</td>\n",
       "</tr>\n",
       "<tr>\n",
       "  <th>Date:</th>                   <td>Wed, 01 Nov 2023</td>        <th>  AIC                </th> <td>1553.830</td>\n",
       "</tr>\n",
       "<tr>\n",
       "  <th>Time:</th>                       <td>18:01:17</td>            <th>  BIC                </th> <td>1579.710</td>\n",
       "</tr>\n",
       "<tr>\n",
       "  <th>Sample:</th>                    <td>06-08-2015</td>           <th>  HQIC               </th> <td>1564.189</td>\n",
       "</tr>\n",
       "<tr>\n",
       "  <th></th>                          <td>- 02-22-2021</td>          <th>                     </th>     <td> </td>   \n",
       "</tr>\n",
       "<tr>\n",
       "  <th>Covariance Type:</th>               <td>opg</td>              <th>                     </th>     <td> </td>   \n",
       "</tr>\n",
       "</table>\n",
       "<table class=\"simpletable\">\n",
       "<tr>\n",
       "      <td></td>        <th>coef</th>     <th>std err</th>      <th>z</th>      <th>P>|z|</th>  <th>[0.025</th>    <th>0.975]</th>  \n",
       "</tr>\n",
       "<tr>\n",
       "  <th>const</th>    <td>         0</td> <td> 5.05e-10</td> <td>        0</td> <td> 1.000</td> <td>-9.89e-10</td> <td> 9.89e-10</td>\n",
       "</tr>\n",
       "<tr>\n",
       "  <th>Open</th>     <td>   -0.0908</td> <td>    0.049</td> <td>   -1.857</td> <td> 0.063</td> <td>   -0.187</td> <td>    0.005</td>\n",
       "</tr>\n",
       "<tr>\n",
       "  <th>Volume</th>   <td>-2.563e-09</td> <td> 1.66e-09</td> <td>   -1.542</td> <td> 0.123</td> <td>-5.82e-09</td> <td> 6.94e-10</td>\n",
       "</tr>\n",
       "<tr>\n",
       "  <th>ma.L1</th>    <td>   -0.1281</td> <td>    0.008</td> <td>  -15.199</td> <td> 0.000</td> <td>   -0.145</td> <td>   -0.112</td>\n",
       "</tr>\n",
       "<tr>\n",
       "  <th>ar.S.L12</th> <td>   -0.0396</td> <td>    0.028</td> <td>   -1.392</td> <td> 0.164</td> <td>   -0.095</td> <td>    0.016</td>\n",
       "</tr>\n",
       "<tr>\n",
       "  <th>ma.S.L12</th> <td>    0.1457</td> <td>    0.029</td> <td>    5.034</td> <td> 0.000</td> <td>    0.089</td> <td>    0.202</td>\n",
       "</tr>\n",
       "<tr>\n",
       "  <th>sigma2</th>   <td>   10.0325</td> <td>    0.000</td> <td>  2.1e+04</td> <td> 0.000</td> <td>   10.032</td> <td>   10.033</td>\n",
       "</tr>\n",
       "</table>\n",
       "<table class=\"simpletable\">\n",
       "<tr>\n",
       "  <th>Ljung-Box (L1) (Q):</th>     <td>0.01</td> <th>  Jarque-Bera (JB):  </th> <td>3.06</td> \n",
       "</tr>\n",
       "<tr>\n",
       "  <th>Prob(Q):</th>                <td>0.92</td> <th>  Prob(JB):          </th> <td>0.22</td> \n",
       "</tr>\n",
       "<tr>\n",
       "  <th>Heteroskedasticity (H):</th> <td>0.78</td> <th>  Skew:              </th> <td>-0.18</td>\n",
       "</tr>\n",
       "<tr>\n",
       "  <th>Prob(H) (two-sided):</th>    <td>0.22</td> <th>  Kurtosis:          </th> <td>3.34</td> \n",
       "</tr>\n",
       "</table><br/><br/>Warnings:<br/>[1] Covariance matrix calculated using the outer product of gradients (complex-step).<br/>[2] Covariance matrix is singular or near-singular, with condition number 2.4e+25. Standard errors may be unstable."
      ],
      "text/latex": [
       "\\begin{center}\n",
       "\\begin{tabular}{lclc}\n",
       "\\toprule\n",
       "\\textbf{Dep. Variable:}          &             Close              & \\textbf{  No. Observations:  } &    299      \\\\\n",
       "\\textbf{Model:}                  & SARIMAX(0, 1, 1)x(1, 0, 1, 12) & \\textbf{  Log Likelihood     } &  -769.915   \\\\\n",
       "\\textbf{Date:}                   &        Wed, 01 Nov 2023        & \\textbf{  AIC                } &  1553.830   \\\\\n",
       "\\textbf{Time:}                   &            18:01:17            & \\textbf{  BIC                } &  1579.710   \\\\\n",
       "\\textbf{Sample:}                 &           06-08-2015           & \\textbf{  HQIC               } &  1564.189   \\\\\n",
       "\\textbf{}                        &          - 02-22-2021          & \\textbf{                     } &             \\\\\n",
       "\\textbf{Covariance Type:}        &              opg               & \\textbf{                     } &             \\\\\n",
       "\\bottomrule\n",
       "\\end{tabular}\n",
       "\\begin{tabular}{lcccccc}\n",
       "                  & \\textbf{coef} & \\textbf{std err} & \\textbf{z} & \\textbf{P$> |$z$|$} & \\textbf{[0.025} & \\textbf{0.975]}  \\\\\n",
       "\\midrule\n",
       "\\textbf{const}    &            0  &     5.05e-10     &         0  &         1.000        &    -9.89e-10    &     9.89e-10     \\\\\n",
       "\\textbf{Open}     &      -0.0908  &        0.049     &    -1.857  &         0.063        &       -0.187    &        0.005     \\\\\n",
       "\\textbf{Volume}   &   -2.563e-09  &     1.66e-09     &    -1.542  &         0.123        &    -5.82e-09    &     6.94e-10     \\\\\n",
       "\\textbf{ma.L1}    &      -0.1281  &        0.008     &   -15.199  &         0.000        &       -0.145    &       -0.112     \\\\\n",
       "\\textbf{ar.S.L12} &      -0.0396  &        0.028     &    -1.392  &         0.164        &       -0.095    &        0.016     \\\\\n",
       "\\textbf{ma.S.L12} &       0.1457  &        0.029     &     5.034  &         0.000        &        0.089    &        0.202     \\\\\n",
       "\\textbf{sigma2}   &      10.0325  &        0.000     &   2.1e+04  &         0.000        &       10.032    &       10.033     \\\\\n",
       "\\bottomrule\n",
       "\\end{tabular}\n",
       "\\begin{tabular}{lclc}\n",
       "\\textbf{Ljung-Box (L1) (Q):}     & 0.01 & \\textbf{  Jarque-Bera (JB):  } &  3.06  \\\\\n",
       "\\textbf{Prob(Q):}                & 0.92 & \\textbf{  Prob(JB):          } &  0.22  \\\\\n",
       "\\textbf{Heteroskedasticity (H):} & 0.78 & \\textbf{  Skew:              } & -0.18  \\\\\n",
       "\\textbf{Prob(H) (two-sided):}    & 0.22 & \\textbf{  Kurtosis:          } &  3.34  \\\\\n",
       "\\bottomrule\n",
       "\\end{tabular}\n",
       "%\\caption{SARIMAX Results}\n",
       "\\end{center}\n",
       "\n",
       "Warnings: \\newline\n",
       " [1] Covariance matrix calculated using the outer product of gradients (complex-step). \\newline\n",
       " [2] Covariance matrix is singular or near-singular, with condition number 2.4e+25. Standard errors may be unstable."
      ],
      "text/plain": [
       "<class 'statsmodels.iolib.summary.Summary'>\n",
       "\"\"\"\n",
       "                                     SARIMAX Results                                      \n",
       "==========================================================================================\n",
       "Dep. Variable:                              Close   No. Observations:                  299\n",
       "Model:             SARIMAX(0, 1, 1)x(1, 0, 1, 12)   Log Likelihood                -769.915\n",
       "Date:                            Wed, 01 Nov 2023   AIC                           1553.830\n",
       "Time:                                    18:01:17   BIC                           1579.710\n",
       "Sample:                                06-08-2015   HQIC                          1564.189\n",
       "                                     - 02-22-2021                                         \n",
       "Covariance Type:                              opg                                         \n",
       "==============================================================================\n",
       "                 coef    std err          z      P>|z|      [0.025      0.975]\n",
       "------------------------------------------------------------------------------\n",
       "const               0   5.05e-10          0      1.000   -9.89e-10    9.89e-10\n",
       "Open          -0.0908      0.049     -1.857      0.063      -0.187       0.005\n",
       "Volume     -2.563e-09   1.66e-09     -1.542      0.123   -5.82e-09    6.94e-10\n",
       "ma.L1         -0.1281      0.008    -15.199      0.000      -0.145      -0.112\n",
       "ar.S.L12      -0.0396      0.028     -1.392      0.164      -0.095       0.016\n",
       "ma.S.L12       0.1457      0.029      5.034      0.000       0.089       0.202\n",
       "sigma2        10.0325      0.000    2.1e+04      0.000      10.032      10.033\n",
       "===================================================================================\n",
       "Ljung-Box (L1) (Q):                   0.01   Jarque-Bera (JB):                 3.06\n",
       "Prob(Q):                              0.92   Prob(JB):                         0.22\n",
       "Heteroskedasticity (H):               0.78   Skew:                            -0.18\n",
       "Prob(H) (two-sided):                  0.22   Kurtosis:                         3.34\n",
       "===================================================================================\n",
       "\n",
       "Warnings:\n",
       "[1] Covariance matrix calculated using the outer product of gradients (complex-step).\n",
       "[2] Covariance matrix is singular or near-singular, with condition number 2.4e+25. Standard errors may be unstable.\n",
       "\"\"\""
      ]
     },
     "execution_count": 21,
     "metadata": {},
     "output_type": "execute_result"
    }
   ],
   "source": [
    "import warnings\n",
    "\n",
    "endog = train['Close']\n",
    "exog = sm.add_constant(train[['Open', 'Volume']])\n",
    "mod = sm.tsa.statespace.SARIMAX(endog=endog, exog=exog, order=(0,1,1),seasonal_order=(1,0,1,12))\n",
    "with warnings.catch_warnings():\n",
    "    warnings.filterwarnings(\"ignore\")\n",
    "    model_fit = mod.fit()\n",
    "\n",
    "model_fit.summary()"
   ]
  },
  {
   "cell_type": "markdown",
   "id": "bfdcf77e",
   "metadata": {
    "papermill": {
     "duration": 0.042659,
     "end_time": "2023-11-01T18:01:17.402212",
     "exception": false,
     "start_time": "2023-11-01T18:01:17.359553",
     "status": "completed"
    },
    "tags": []
   },
   "source": [
    "### We can see that the value of the Ljung Box test is 0.38 which tells us that there is no strong evidence of significant autocorrelation in the residuals.\n",
    "\n",
    "### A small test statistic, such as 0.38, indicates that the observed autocorrelation in the residuals is not significantly different from what would be expected under the null hypothesis of no autocorrelation. Therefore, we have strong evidence to reject the null hypothesis, suggesting that there is no significant autocorrelation in the residuals at the tested lags."
   ]
  },
  {
   "cell_type": "markdown",
   "id": "6360639b",
   "metadata": {
    "papermill": {
     "duration": 0.033926,
     "end_time": "2023-11-01T18:01:17.469809",
     "exception": false,
     "start_time": "2023-11-01T18:01:17.435883",
     "status": "completed"
    },
    "tags": []
   },
   "source": [
    "### Next we divide the train data into train and test(validation) so that we can asses the performance of the model"
   ]
  },
  {
   "cell_type": "code",
   "execution_count": 22,
   "id": "a3430cc2",
   "metadata": {
    "execution": {
     "iopub.execute_input": "2023-11-01T18:01:17.551330Z",
     "iopub.status.busy": "2023-11-01T18:01:17.550825Z",
     "iopub.status.idle": "2023-11-01T18:01:17.566581Z",
     "shell.execute_reply": "2023-11-01T18:01:17.565514Z"
    },
    "papermill": {
     "duration": 0.055682,
     "end_time": "2023-11-01T18:01:17.568936",
     "exception": false,
     "start_time": "2023-11-01T18:01:17.513254",
     "status": "completed"
    },
    "tags": []
   },
   "outputs": [
    {
     "data": {
      "text/html": [
       "<div>\n",
       "<style scoped>\n",
       "    .dataframe tbody tr th:only-of-type {\n",
       "        vertical-align: middle;\n",
       "    }\n",
       "\n",
       "    .dataframe tbody tr th {\n",
       "        vertical-align: top;\n",
       "    }\n",
       "\n",
       "    .dataframe thead th {\n",
       "        text-align: right;\n",
       "    }\n",
       "</style>\n",
       "<table border=\"1\" class=\"dataframe\">\n",
       "  <thead>\n",
       "    <tr style=\"text-align: right;\">\n",
       "      <th></th>\n",
       "      <th>Open</th>\n",
       "      <th>Close</th>\n",
       "      <th>Volume</th>\n",
       "    </tr>\n",
       "    <tr>\n",
       "      <th>Date</th>\n",
       "      <th></th>\n",
       "      <th></th>\n",
       "      <th></th>\n",
       "    </tr>\n",
       "  </thead>\n",
       "  <tbody>\n",
       "    <tr>\n",
       "      <th>2015-06-01</th>\n",
       "      <td>66.208486</td>\n",
       "      <td>75.609978</td>\n",
       "      <td>298506300</td>\n",
       "    </tr>\n",
       "    <tr>\n",
       "      <th>2015-06-08</th>\n",
       "      <td>64.116235</td>\n",
       "      <td>74.443331</td>\n",
       "      <td>227974800</td>\n",
       "    </tr>\n",
       "    <tr>\n",
       "      <th>2015-06-15</th>\n",
       "      <td>47.701942</td>\n",
       "      <td>71.140831</td>\n",
       "      <td>250670900</td>\n",
       "    </tr>\n",
       "    <tr>\n",
       "      <th>2015-06-22</th>\n",
       "      <td>54.754816</td>\n",
       "      <td>72.881344</td>\n",
       "      <td>223614300</td>\n",
       "    </tr>\n",
       "    <tr>\n",
       "      <th>2015-06-29</th>\n",
       "      <td>48.031899</td>\n",
       "      <td>66.284718</td>\n",
       "      <td>406814900</td>\n",
       "    </tr>\n",
       "  </tbody>\n",
       "</table>\n",
       "</div>"
      ],
      "text/plain": [
       "                 Open      Close     Volume\n",
       "Date                                       \n",
       "2015-06-01  66.208486  75.609978  298506300\n",
       "2015-06-08  64.116235  74.443331  227974800\n",
       "2015-06-15  47.701942  71.140831  250670900\n",
       "2015-06-22  54.754816  72.881344  223614300\n",
       "2015-06-29  48.031899  66.284718  406814900"
      ]
     },
     "execution_count": 22,
     "metadata": {},
     "output_type": "execute_result"
    }
   ],
   "source": [
    "size=int(len(train_data)*0.8)\n",
    "Xtrain,Xtest=train_data[0:size],train_data[size:]\n",
    "Xtrain.head()"
   ]
  },
  {
   "cell_type": "markdown",
   "id": "063278e9",
   "metadata": {
    "papermill": {
     "duration": 0.035559,
     "end_time": "2023-11-01T18:01:17.639159",
     "exception": false,
     "start_time": "2023-11-01T18:01:17.603600",
     "status": "completed"
    },
    "tags": []
   },
   "source": [
    "### Next we build the SARIMAX model based on the sub training set that has been created from the original training set. "
   ]
  },
  {
   "cell_type": "code",
   "execution_count": 23,
   "id": "c0995b62",
   "metadata": {
    "execution": {
     "iopub.execute_input": "2023-11-01T18:01:17.733708Z",
     "iopub.status.busy": "2023-11-01T18:01:17.732115Z",
     "iopub.status.idle": "2023-11-01T18:01:18.653991Z",
     "shell.execute_reply": "2023-11-01T18:01:18.652594Z"
    },
    "papermill": {
     "duration": 0.967346,
     "end_time": "2023-11-01T18:01:18.658028",
     "exception": false,
     "start_time": "2023-11-01T18:01:17.690682",
     "status": "completed"
    },
    "tags": []
   },
   "outputs": [
    {
     "name": "stdout",
     "output_type": "stream",
     "text": [
      "RUNNING THE L-BFGS-B CODE\n",
      "\n",
      "           * * *\n",
      "\n",
      "Machine precision = 2.220D-16\n",
      " N =            4     M =           10\n",
      "\n",
      "At X0         0 variables are exactly at the bounds\n",
      "\n",
      "At iterate    0    f=  2.57989D+00    |proj g|=  1.65970D-02\n"
     ]
    },
    {
     "name": "stderr",
     "output_type": "stream",
     "text": [
      " This problem is unconstrained.\n"
     ]
    },
    {
     "name": "stdout",
     "output_type": "stream",
     "text": [
      "\n",
      "At iterate    5    f=  2.57071D+00    |proj g|=  3.30962D-02\n",
      "\n",
      "At iterate   10    f=  2.56705D+00    |proj g|=  6.97234D-05\n",
      "\n",
      "           * * *\n",
      "\n",
      "Tit   = total number of iterations\n",
      "Tnf   = total number of function evaluations\n",
      "Tnint = total number of segments explored during Cauchy searches\n",
      "Skip  = number of BFGS updates skipped\n",
      "Nact  = number of active bounds at final generalized Cauchy point\n",
      "Projg = norm of the final projected gradient\n",
      "F     = final function value\n",
      "\n",
      "           * * *\n",
      "\n",
      "   N    Tit     Tnf  Tnint  Skip  Nact     Projg        F\n",
      "    4     12     19      1     0     0   2.897D-06   2.567D+00\n",
      "  F =   2.5670482925869282     \n",
      "\n",
      "CONVERGENCE: NORM_OF_PROJECTED_GRADIENT_<=_PGTOL            \n"
     ]
    },
    {
     "data": {
      "text/html": [
       "<table class=\"simpletable\">\n",
       "<caption>SARIMAX Results</caption>\n",
       "<tr>\n",
       "  <th>Dep. Variable:</th>                <td>Close</td>             <th>  No. Observations:  </th>    <td>300</td>  \n",
       "</tr>\n",
       "<tr>\n",
       "  <th>Model:</th>           <td>SARIMAX(0, 1, 1)x(1, 0, 1, 12)</td> <th>  Log Likelihood     </th> <td>-770.114</td>\n",
       "</tr>\n",
       "<tr>\n",
       "  <th>Date:</th>                   <td>Wed, 01 Nov 2023</td>        <th>  AIC                </th> <td>1548.229</td>\n",
       "</tr>\n",
       "<tr>\n",
       "  <th>Time:</th>                       <td>18:01:18</td>            <th>  BIC                </th> <td>1563.031</td>\n",
       "</tr>\n",
       "<tr>\n",
       "  <th>Sample:</th>                    <td>06-01-2015</td>           <th>  HQIC               </th> <td>1554.153</td>\n",
       "</tr>\n",
       "<tr>\n",
       "  <th></th>                          <td>- 02-22-2021</td>          <th>                     </th>     <td> </td>   \n",
       "</tr>\n",
       "<tr>\n",
       "  <th>Covariance Type:</th>               <td>opg</td>              <th>                     </th>     <td> </td>   \n",
       "</tr>\n",
       "</table>\n",
       "<table class=\"simpletable\">\n",
       "<tr>\n",
       "      <td></td>        <th>coef</th>     <th>std err</th>      <th>z</th>      <th>P>|z|</th>  <th>[0.025</th>    <th>0.975]</th>  \n",
       "</tr>\n",
       "<tr>\n",
       "  <th>ma.L1</th>    <td>   -0.1426</td> <td>    0.058</td> <td>   -2.440</td> <td> 0.015</td> <td>   -0.257</td> <td>   -0.028</td>\n",
       "</tr>\n",
       "<tr>\n",
       "  <th>ar.S.L12</th> <td>   -0.7068</td> <td>    0.149</td> <td>   -4.756</td> <td> 0.000</td> <td>   -0.998</td> <td>   -0.416</td>\n",
       "</tr>\n",
       "<tr>\n",
       "  <th>ma.S.L12</th> <td>    0.8481</td> <td>    0.118</td> <td>    7.171</td> <td> 0.000</td> <td>    0.616</td> <td>    1.080</td>\n",
       "</tr>\n",
       "<tr>\n",
       "  <th>sigma2</th>   <td>   10.0543</td> <td>    0.737</td> <td>   13.639</td> <td> 0.000</td> <td>    8.609</td> <td>   11.499</td>\n",
       "</tr>\n",
       "</table>\n",
       "<table class=\"simpletable\">\n",
       "<tr>\n",
       "  <th>Ljung-Box (L1) (Q):</th>     <td>0.00</td> <th>  Jarque-Bera (JB):  </th> <td>6.40</td> \n",
       "</tr>\n",
       "<tr>\n",
       "  <th>Prob(Q):</th>                <td>0.99</td> <th>  Prob(JB):          </th> <td>0.04</td> \n",
       "</tr>\n",
       "<tr>\n",
       "  <th>Heteroskedasticity (H):</th> <td>0.82</td> <th>  Skew:              </th> <td>-0.23</td>\n",
       "</tr>\n",
       "<tr>\n",
       "  <th>Prob(H) (two-sided):</th>    <td>0.32</td> <th>  Kurtosis:          </th> <td>3.55</td> \n",
       "</tr>\n",
       "</table><br/><br/>Warnings:<br/>[1] Covariance matrix calculated using the outer product of gradients (complex-step)."
      ],
      "text/latex": [
       "\\begin{center}\n",
       "\\begin{tabular}{lclc}\n",
       "\\toprule\n",
       "\\textbf{Dep. Variable:}          &             Close              & \\textbf{  No. Observations:  } &    300      \\\\\n",
       "\\textbf{Model:}                  & SARIMAX(0, 1, 1)x(1, 0, 1, 12) & \\textbf{  Log Likelihood     } &  -770.114   \\\\\n",
       "\\textbf{Date:}                   &        Wed, 01 Nov 2023        & \\textbf{  AIC                } &  1548.229   \\\\\n",
       "\\textbf{Time:}                   &            18:01:18            & \\textbf{  BIC                } &  1563.031   \\\\\n",
       "\\textbf{Sample:}                 &           06-01-2015           & \\textbf{  HQIC               } &  1554.153   \\\\\n",
       "\\textbf{}                        &          - 02-22-2021          & \\textbf{                     } &             \\\\\n",
       "\\textbf{Covariance Type:}        &              opg               & \\textbf{                     } &             \\\\\n",
       "\\bottomrule\n",
       "\\end{tabular}\n",
       "\\begin{tabular}{lcccccc}\n",
       "                  & \\textbf{coef} & \\textbf{std err} & \\textbf{z} & \\textbf{P$> |$z$|$} & \\textbf{[0.025} & \\textbf{0.975]}  \\\\\n",
       "\\midrule\n",
       "\\textbf{ma.L1}    &      -0.1426  &        0.058     &    -2.440  &         0.015        &       -0.257    &       -0.028     \\\\\n",
       "\\textbf{ar.S.L12} &      -0.7068  &        0.149     &    -4.756  &         0.000        &       -0.998    &       -0.416     \\\\\n",
       "\\textbf{ma.S.L12} &       0.8481  &        0.118     &     7.171  &         0.000        &        0.616    &        1.080     \\\\\n",
       "\\textbf{sigma2}   &      10.0543  &        0.737     &    13.639  &         0.000        &        8.609    &       11.499     \\\\\n",
       "\\bottomrule\n",
       "\\end{tabular}\n",
       "\\begin{tabular}{lclc}\n",
       "\\textbf{Ljung-Box (L1) (Q):}     & 0.00 & \\textbf{  Jarque-Bera (JB):  } &  6.40  \\\\\n",
       "\\textbf{Prob(Q):}                & 0.99 & \\textbf{  Prob(JB):          } &  0.04  \\\\\n",
       "\\textbf{Heteroskedasticity (H):} & 0.82 & \\textbf{  Skew:              } & -0.23  \\\\\n",
       "\\textbf{Prob(H) (two-sided):}    & 0.32 & \\textbf{  Kurtosis:          } &  3.55  \\\\\n",
       "\\bottomrule\n",
       "\\end{tabular}\n",
       "%\\caption{SARIMAX Results}\n",
       "\\end{center}\n",
       "\n",
       "Warnings: \\newline\n",
       " [1] Covariance matrix calculated using the outer product of gradients (complex-step)."
      ],
      "text/plain": [
       "<class 'statsmodels.iolib.summary.Summary'>\n",
       "\"\"\"\n",
       "                                     SARIMAX Results                                      \n",
       "==========================================================================================\n",
       "Dep. Variable:                              Close   No. Observations:                  300\n",
       "Model:             SARIMAX(0, 1, 1)x(1, 0, 1, 12)   Log Likelihood                -770.114\n",
       "Date:                            Wed, 01 Nov 2023   AIC                           1548.229\n",
       "Time:                                    18:01:18   BIC                           1563.031\n",
       "Sample:                                06-01-2015   HQIC                          1554.153\n",
       "                                     - 02-22-2021                                         \n",
       "Covariance Type:                              opg                                         \n",
       "==============================================================================\n",
       "                 coef    std err          z      P>|z|      [0.025      0.975]\n",
       "------------------------------------------------------------------------------\n",
       "ma.L1         -0.1426      0.058     -2.440      0.015      -0.257      -0.028\n",
       "ar.S.L12      -0.7068      0.149     -4.756      0.000      -0.998      -0.416\n",
       "ma.S.L12       0.8481      0.118      7.171      0.000       0.616       1.080\n",
       "sigma2        10.0543      0.737     13.639      0.000       8.609      11.499\n",
       "===================================================================================\n",
       "Ljung-Box (L1) (Q):                   0.00   Jarque-Bera (JB):                 6.40\n",
       "Prob(Q):                              0.99   Prob(JB):                         0.04\n",
       "Heteroskedasticity (H):               0.82   Skew:                            -0.23\n",
       "Prob(H) (two-sided):                  0.32   Kurtosis:                         3.55\n",
       "===================================================================================\n",
       "\n",
       "Warnings:\n",
       "[1] Covariance matrix calculated using the outer product of gradients (complex-step).\n",
       "\"\"\""
      ]
     },
     "execution_count": 23,
     "metadata": {},
     "output_type": "execute_result"
    }
   ],
   "source": [
    "import warnings\n",
    "\n",
    "endog = train['Close']\n",
    "exog = sm.add_constant(train[['Open', 'Volume']])\n",
    "mod = sm.tsa.statespace.SARIMAX(train_data[\"Close\"], order=(0,1,1),seasonal_order=(1,0,1,12))\n",
    "with warnings.catch_warnings():\n",
    "    warnings.filterwarnings(\"ignore\")\n",
    "    model_fit = mod.fit()\n",
    "\n",
    "model_fit.summary()"
   ]
  },
  {
   "cell_type": "markdown",
   "id": "f56c1444",
   "metadata": {
    "papermill": {
     "duration": 0.035344,
     "end_time": "2023-11-01T18:01:18.733237",
     "exception": false,
     "start_time": "2023-11-01T18:01:18.697893",
     "status": "completed"
    },
    "tags": []
   },
   "source": [
    "### We can see that the value of the Ljung Box test is 0.09 which tells us that there is no strong evidence of significant autocorrelation in the residuals.\n",
    "### It suggests that the residuals appear to be reasonably close to being uncorrelated.\n",
    "### Therefore the model's predictions do not exhibit strong systematic patterns of errors."
   ]
  },
  {
   "cell_type": "markdown",
   "id": "5d92fdc1",
   "metadata": {
    "papermill": {
     "duration": 0.035102,
     "end_time": "2023-11-01T18:01:18.803890",
     "exception": false,
     "start_time": "2023-11-01T18:01:18.768788",
     "status": "completed"
    },
    "tags": []
   },
   "source": [
    "### Let us take a look at the distribution of the residuals and the residuals in the form of Q-Q Plot and the auto-correlation plot"
   ]
  },
  {
   "cell_type": "code",
   "execution_count": 24,
   "id": "2b62bef5",
   "metadata": {
    "execution": {
     "iopub.execute_input": "2023-11-01T18:01:18.876406Z",
     "iopub.status.busy": "2023-11-01T18:01:18.875927Z",
     "iopub.status.idle": "2023-11-01T18:01:19.681813Z",
     "shell.execute_reply": "2023-11-01T18:01:19.680486Z"
    },
    "papermill": {
     "duration": 0.844597,
     "end_time": "2023-11-01T18:01:19.684460",
     "exception": false,
     "start_time": "2023-11-01T18:01:18.839863",
     "status": "completed"
    },
    "tags": []
   },
   "outputs": [
    {
     "data": {
      "image/png": "[encoded data removed]",
      "text/plain": [
       "<Figure size 1200x800 with 4 Axes>"
      ]
     },
     "metadata": {},
     "output_type": "display_data"
    }
   ],
   "source": [
    "import matplotlib.pyplot as plt\n",
    "import statsmodels.api as sm\n",
    "\n",
    "# Assuming you have a fitted SARIMAX model named 'sarimax_model'\n",
    "# And 'Xtest' is your test data\n",
    "# You should have the residuals of the model already obtained\n",
    "\n",
    "# Calculate the residuals\n",
    "residuals = model_fit.resid\n",
    "\n",
    "# Create diagnostic plots\n",
    "fig, axes = plt.subplots(2, 2, figsize=(12, 8))\n",
    "\n",
    "# Residuals plot\n",
    "sm.graphics.tsa.plot_acf(residuals, lags=40, ax=axes[0, 0])\n",
    "axes[0, 0].set_title(\"ACF of Residuals\")\n",
    "\n",
    "# Histogram of residuals\n",
    "axes[0, 1].hist(residuals, bins=30, density=True, alpha=0.5, color='b')\n",
    "sm.qqplot(residuals, line='s', ax=axes[1, 0])\n",
    "axes[1, 0].set_title(\"Q-Q Plot of Residuals\")\n",
    "axes[1, 1].set_visible(False)\n",
    "\n",
    "plt.tight_layout()\n",
    "plt.show()"
   ]
  },
  {
   "cell_type": "markdown",
   "id": "9335860a",
   "metadata": {
    "papermill": {
     "duration": 0.035602,
     "end_time": "2023-11-01T18:01:19.755834",
     "exception": false,
     "start_time": "2023-11-01T18:01:19.720232",
     "status": "completed"
    },
    "tags": []
   },
   "source": [
    "### We can see from the above histogram that the residuals follow normal distribution. \n",
    "### This is corroborated from the Q-Q Plot also.\n",
    "### There seems to be a few outliers in the data."
   ]
  },
  {
   "cell_type": "markdown",
   "id": "42b0d271",
   "metadata": {
    "papermill": {
     "duration": 0.035096,
     "end_time": "2023-11-01T18:01:19.826832",
     "exception": false,
     "start_time": "2023-11-01T18:01:19.791736",
     "status": "completed"
    },
    "tags": []
   },
   "source": [
    "### Let us move on to predicting the Close prices with the SARIMAX model we built earlier with respect to the test(validation data - train data split into train and validation) data."
   ]
  },
  {
   "cell_type": "code",
   "execution_count": 25,
   "id": "b640083b",
   "metadata": {
    "execution": {
     "iopub.execute_input": "2023-11-01T18:01:19.900379Z",
     "iopub.status.busy": "2023-11-01T18:01:19.899972Z",
     "iopub.status.idle": "2023-11-01T18:01:19.923053Z",
     "shell.execute_reply": "2023-11-01T18:01:19.921914Z"
    },
    "papermill": {
     "duration": 0.062271,
     "end_time": "2023-11-01T18:01:19.925323",
     "exception": false,
     "start_time": "2023-11-01T18:01:19.863052",
     "status": "completed"
    },
    "tags": []
   },
   "outputs": [
    {
     "data": {
      "text/html": [
       "<div>\n",
       "<style scoped>\n",
       "    .dataframe tbody tr th:only-of-type {\n",
       "        vertical-align: middle;\n",
       "    }\n",
       "\n",
       "    .dataframe tbody tr th {\n",
       "        vertical-align: top;\n",
       "    }\n",
       "\n",
       "    .dataframe thead th {\n",
       "        text-align: right;\n",
       "    }\n",
       "</style>\n",
       "<table border=\"1\" class=\"dataframe\">\n",
       "  <thead>\n",
       "    <tr style=\"text-align: right;\">\n",
       "      <th></th>\n",
       "      <th>Predictions</th>\n",
       "    </tr>\n",
       "  </thead>\n",
       "  <tbody>\n",
       "    <tr>\n",
       "      <th>2021-02-01</th>\n",
       "      <td>82.987740</td>\n",
       "    </tr>\n",
       "    <tr>\n",
       "      <th>2021-02-08</th>\n",
       "      <td>84.387691</td>\n",
       "    </tr>\n",
       "    <tr>\n",
       "      <th>2021-02-15</th>\n",
       "      <td>83.975864</td>\n",
       "    </tr>\n",
       "    <tr>\n",
       "      <th>2021-02-22</th>\n",
       "      <td>81.216030</td>\n",
       "    </tr>\n",
       "    <tr>\n",
       "      <th>2021-03-01</th>\n",
       "      <td>79.745578</td>\n",
       "    </tr>\n",
       "  </tbody>\n",
       "</table>\n",
       "</div>"
      ],
      "text/plain": [
       "            Predictions\n",
       "2021-02-01    82.987740\n",
       "2021-02-08    84.387691\n",
       "2021-02-15    83.975864\n",
       "2021-02-22    81.216030\n",
       "2021-03-01    79.745578"
      ]
     },
     "execution_count": 25,
     "metadata": {},
     "output_type": "execute_result"
    }
   ],
   "source": [
    "predict_sari = pd.DataFrame(model_fit.predict(start=len(Xtrain), end=len(train_data)))\n",
    "\n",
    "\n",
    "predict_sari.columns=['Predictions']\n",
    "predict_sari.tail()"
   ]
  },
  {
   "cell_type": "markdown",
   "id": "2476912a",
   "metadata": {
    "papermill": {
     "duration": 0.036054,
     "end_time": "2023-11-01T18:01:19.998501",
     "exception": false,
     "start_time": "2023-11-01T18:01:19.962447",
     "status": "completed"
    },
    "tags": []
   },
   "source": [
    "### Now let us merge the test data and the predicted values"
   ]
  },
  {
   "cell_type": "code",
   "execution_count": 26,
   "id": "281a38d9",
   "metadata": {
    "execution": {
     "iopub.execute_input": "2023-11-01T18:01:20.073139Z",
     "iopub.status.busy": "2023-11-01T18:01:20.072281Z",
     "iopub.status.idle": "2023-11-01T18:01:20.090509Z",
     "shell.execute_reply": "2023-11-01T18:01:20.089523Z"
    },
    "papermill": {
     "duration": 0.05789,
     "end_time": "2023-11-01T18:01:20.092716",
     "exception": false,
     "start_time": "2023-11-01T18:01:20.034826",
     "status": "completed"
    },
    "tags": []
   },
   "outputs": [
    {
     "data": {
      "text/html": [
       "<div>\n",
       "<style scoped>\n",
       "    .dataframe tbody tr th:only-of-type {\n",
       "        vertical-align: middle;\n",
       "    }\n",
       "\n",
       "    .dataframe tbody tr th {\n",
       "        vertical-align: top;\n",
       "    }\n",
       "\n",
       "    .dataframe thead th {\n",
       "        text-align: right;\n",
       "    }\n",
       "</style>\n",
       "<table border=\"1\" class=\"dataframe\">\n",
       "  <thead>\n",
       "    <tr style=\"text-align: right;\">\n",
       "      <th></th>\n",
       "      <th>Predictions</th>\n",
       "      <th>Open</th>\n",
       "      <th>Close</th>\n",
       "      <th>Volume</th>\n",
       "    </tr>\n",
       "  </thead>\n",
       "  <tbody>\n",
       "    <tr>\n",
       "      <th>2021-02-01</th>\n",
       "      <td>82.987740</td>\n",
       "      <td>71.970249</td>\n",
       "      <td>85.294903</td>\n",
       "      <td>177655800.0</td>\n",
       "    </tr>\n",
       "    <tr>\n",
       "      <th>2021-02-08</th>\n",
       "      <td>84.387691</td>\n",
       "      <td>71.784627</td>\n",
       "      <td>83.266453</td>\n",
       "      <td>146003500.0</td>\n",
       "    </tr>\n",
       "    <tr>\n",
       "      <th>2021-02-15</th>\n",
       "      <td>83.975864</td>\n",
       "      <td>69.372333</td>\n",
       "      <td>81.026827</td>\n",
       "      <td>167762500.0</td>\n",
       "    </tr>\n",
       "    <tr>\n",
       "      <th>2021-02-22</th>\n",
       "      <td>81.216030</td>\n",
       "      <td>69.618620</td>\n",
       "      <td>78.672007</td>\n",
       "      <td>332979200.0</td>\n",
       "    </tr>\n",
       "    <tr>\n",
       "      <th>2021-03-01</th>\n",
       "      <td>79.745578</td>\n",
       "      <td>NaN</td>\n",
       "      <td>NaN</td>\n",
       "      <td>NaN</td>\n",
       "    </tr>\n",
       "  </tbody>\n",
       "</table>\n",
       "</div>"
      ],
      "text/plain": [
       "            Predictions       Open      Close       Volume\n",
       "2021-02-01    82.987740  71.970249  85.294903  177655800.0\n",
       "2021-02-08    84.387691  71.784627  83.266453  146003500.0\n",
       "2021-02-15    83.975864  69.372333  81.026827  167762500.0\n",
       "2021-02-22    81.216030  69.618620  78.672007  332979200.0\n",
       "2021-03-01    79.745578        NaN        NaN          NaN"
      ]
     },
     "execution_count": 26,
     "metadata": {},
     "output_type": "execute_result"
    }
   ],
   "source": [
    "import pandas as pd\n",
    "merge_data=pd.concat((predict_sari,Xtest),axis=1)\n",
    "merge_data.tail()\n",
    "\n"
   ]
  },
  {
   "cell_type": "code",
   "execution_count": 27,
   "id": "0fbb88fe",
   "metadata": {
    "execution": {
     "iopub.execute_input": "2023-11-01T18:01:20.166629Z",
     "iopub.status.busy": "2023-11-01T18:01:20.165495Z",
     "iopub.status.idle": "2023-11-01T18:01:20.585125Z",
     "shell.execute_reply": "2023-11-01T18:01:20.583938Z"
    },
    "papermill": {
     "duration": 0.459006,
     "end_time": "2023-11-01T18:01:20.587517",
     "exception": false,
     "start_time": "2023-11-01T18:01:20.128511",
     "status": "completed"
    },
    "tags": []
   },
   "outputs": [
    {
     "data": {
      "text/plain": [
       "<matplotlib.legend.Legend at 0x7e966887eda0>"
      ]
     },
     "execution_count": 27,
     "metadata": {},
     "output_type": "execute_result"
    },
    {
     "data": {
      "image/png": "[encoded data removed]",
      "text/plain": [
       "<Figure size 1000x800 with 1 Axes>"
      ]
     },
     "metadata": {},
     "output_type": "display_data"
    }
   ],
   "source": [
    "plt.figure(figsize=(10,8))\n",
    "plt.plot(merge_data.index,merge_data['Predictions'],color='red',label='predicted')\n",
    "plt.plot(merge_data.index,merge_data['Close'], color = 'blue', label ='actual')\n",
    "plt.plot(pd.DataFrame(model_fit.predict(start=len(train_data['Close']),end=len(train_data['Close'])+12)),color='yellow',label='forecast')\n",
    "plt.legend()"
   ]
  },
  {
   "cell_type": "markdown",
   "id": "d88e595e",
   "metadata": {
    "papermill": {
     "duration": 0.037396,
     "end_time": "2023-11-01T18:01:20.662820",
     "exception": false,
     "start_time": "2023-11-01T18:01:20.625424",
     "status": "completed"
    },
    "tags": []
   },
   "source": [
    "### Let us calculate the SMAPE score of our model. "
   ]
  },
  {
   "cell_type": "code",
   "execution_count": 28,
   "id": "ee376282",
   "metadata": {
    "execution": {
     "iopub.execute_input": "2023-11-01T18:01:20.741602Z",
     "iopub.status.busy": "2023-11-01T18:01:20.741151Z",
     "iopub.status.idle": "2023-11-01T18:01:20.748939Z",
     "shell.execute_reply": "2023-11-01T18:01:20.747719Z"
    },
    "papermill": {
     "duration": 0.049712,
     "end_time": "2023-11-01T18:01:20.751680",
     "exception": false,
     "start_time": "2023-11-01T18:01:20.701968",
     "status": "completed"
    },
    "tags": []
   },
   "outputs": [
    {
     "name": "stdout",
     "output_type": "stream",
     "text": [
      "SMAPE: 2.51%\n"
     ]
    }
   ],
   "source": [
    "# SMAPE Calculation\n",
    "y_pred = predict_sari.values\n",
    "y_true = Xtest['Close'].values\n",
    "smape = 100 * np.mean(np.abs(y_pred - y_true) / (np.abs(y_pred) + np.abs(y_true)))\n",
    "\n",
    "print(f\"SMAPE: {smape:.2f}%\")"
   ]
  },
  {
   "cell_type": "markdown",
   "id": "6d81a8d6",
   "metadata": {
    "papermill": {
     "duration": 0.036899,
     "end_time": "2023-11-01T18:01:20.825978",
     "exception": false,
     "start_time": "2023-11-01T18:01:20.789079",
     "status": "completed"
    },
    "tags": []
   },
   "source": [
    "### The SMAPE score is quite less which tells us that the model we built is good "
   ]
  },
  {
   "cell_type": "code",
   "execution_count": 29,
   "id": "db6f8743",
   "metadata": {
    "execution": {
     "iopub.execute_input": "2023-11-01T18:01:20.902428Z",
     "iopub.status.busy": "2023-11-01T18:01:20.901954Z",
     "iopub.status.idle": "2023-11-01T18:01:20.918645Z",
     "shell.execute_reply": "2023-11-01T18:01:20.917550Z"
    },
    "papermill": {
     "duration": 0.058172,
     "end_time": "2023-11-01T18:01:20.921236",
     "exception": false,
     "start_time": "2023-11-01T18:01:20.863064",
     "status": "completed"
    },
    "tags": []
   },
   "outputs": [],
   "source": [
    "test_data = pd.read_csv(\"/kaggle/input/ue21cs342aa2/test.csv\")"
   ]
  },
  {
   "cell_type": "code",
   "execution_count": 30,
   "id": "96fb18fe",
   "metadata": {
    "execution": {
     "iopub.execute_input": "2023-11-01T18:01:20.999208Z",
     "iopub.status.busy": "2023-11-01T18:01:20.998801Z",
     "iopub.status.idle": "2023-11-01T18:01:21.015135Z",
     "shell.execute_reply": "2023-11-01T18:01:21.014179Z"
    },
    "papermill": {
     "duration": 0.057154,
     "end_time": "2023-11-01T18:01:21.017424",
     "exception": false,
     "start_time": "2023-11-01T18:01:20.960270",
     "status": "completed"
    },
    "tags": []
   },
   "outputs": [
    {
     "data": {
      "text/html": [
       "<div>\n",
       "<style scoped>\n",
       "    .dataframe tbody tr th:only-of-type {\n",
       "        vertical-align: middle;\n",
       "    }\n",
       "\n",
       "    .dataframe tbody tr th {\n",
       "        vertical-align: top;\n",
       "    }\n",
       "\n",
       "    .dataframe thead th {\n",
       "        text-align: right;\n",
       "    }\n",
       "</style>\n",
       "<table border=\"1\" class=\"dataframe\">\n",
       "  <thead>\n",
       "    <tr style=\"text-align: right;\">\n",
       "      <th></th>\n",
       "      <th>id</th>\n",
       "      <th>Open</th>\n",
       "      <th>Volume</th>\n",
       "    </tr>\n",
       "    <tr>\n",
       "      <th>Date</th>\n",
       "      <th></th>\n",
       "      <th></th>\n",
       "      <th></th>\n",
       "    </tr>\n",
       "  </thead>\n",
       "  <tbody>\n",
       "    <tr>\n",
       "      <th>2021-03-01</th>\n",
       "      <td>0</td>\n",
       "      <td>72.708331</td>\n",
       "      <td>205897600</td>\n",
       "    </tr>\n",
       "    <tr>\n",
       "      <th>2021-03-08</th>\n",
       "      <td>1</td>\n",
       "      <td>73.310886</td>\n",
       "      <td>214095600</td>\n",
       "    </tr>\n",
       "    <tr>\n",
       "      <th>2021-03-15</th>\n",
       "      <td>2</td>\n",
       "      <td>70.610119</td>\n",
       "      <td>151601700</td>\n",
       "    </tr>\n",
       "    <tr>\n",
       "      <th>2021-03-22</th>\n",
       "      <td>3</td>\n",
       "      <td>70.256017</td>\n",
       "      <td>193982500</td>\n",
       "    </tr>\n",
       "    <tr>\n",
       "      <th>2021-03-29</th>\n",
       "      <td>4</td>\n",
       "      <td>68.258324</td>\n",
       "      <td>220238400</td>\n",
       "    </tr>\n",
       "    <tr>\n",
       "      <th>...</th>\n",
       "      <td>...</td>\n",
       "      <td>...</td>\n",
       "      <td>...</td>\n",
       "    </tr>\n",
       "    <tr>\n",
       "      <th>2022-12-26</th>\n",
       "      <td>95</td>\n",
       "      <td>57.048622</td>\n",
       "      <td>224994700</td>\n",
       "    </tr>\n",
       "    <tr>\n",
       "      <th>2023-01-02</th>\n",
       "      <td>96</td>\n",
       "      <td>60.569661</td>\n",
       "      <td>176020500</td>\n",
       "    </tr>\n",
       "    <tr>\n",
       "      <th>2023-01-09</th>\n",
       "      <td>97</td>\n",
       "      <td>61.446777</td>\n",
       "      <td>181478600</td>\n",
       "    </tr>\n",
       "    <tr>\n",
       "      <th>2023-01-16</th>\n",
       "      <td>98</td>\n",
       "      <td>55.447711</td>\n",
       "      <td>162471700</td>\n",
       "    </tr>\n",
       "    <tr>\n",
       "      <th>2023-01-23</th>\n",
       "      <td>99</td>\n",
       "      <td>57.008939</td>\n",
       "      <td>178924000</td>\n",
       "    </tr>\n",
       "  </tbody>\n",
       "</table>\n",
       "<p>100 rows × 3 columns</p>\n",
       "</div>"
      ],
      "text/plain": [
       "            id       Open     Volume\n",
       "Date                                \n",
       "2021-03-01   0  72.708331  205897600\n",
       "2021-03-08   1  73.310886  214095600\n",
       "2021-03-15   2  70.610119  151601700\n",
       "2021-03-22   3  70.256017  193982500\n",
       "2021-03-29   4  68.258324  220238400\n",
       "...         ..        ...        ...\n",
       "2022-12-26  95  57.048622  224994700\n",
       "2023-01-02  96  60.569661  176020500\n",
       "2023-01-09  97  61.446777  181478600\n",
       "2023-01-16  98  55.447711  162471700\n",
       "2023-01-23  99  57.008939  178924000\n",
       "\n",
       "[100 rows x 3 columns]"
      ]
     },
     "execution_count": 30,
     "metadata": {},
     "output_type": "execute_result"
    }
   ],
   "source": [
    "test_data['Date'] = pd.to_datetime(test_data['Date'])\n",
    "test_data.set_index('Date',inplace=True)\n",
    "test_data"
   ]
  },
  {
   "cell_type": "code",
   "execution_count": 31,
   "id": "ab4575a7",
   "metadata": {
    "execution": {
     "iopub.execute_input": "2023-11-01T18:01:21.095526Z",
     "iopub.status.busy": "2023-11-01T18:01:21.095117Z",
     "iopub.status.idle": "2023-11-01T18:01:21.128855Z",
     "shell.execute_reply": "2023-11-01T18:01:21.127684Z"
    },
    "papermill": {
     "duration": 0.076118,
     "end_time": "2023-11-01T18:01:21.131597",
     "exception": false,
     "start_time": "2023-11-01T18:01:21.055479",
     "status": "completed"
    },
    "tags": []
   },
   "outputs": [],
   "source": [
    "# Assuming you have already trained your SARIMAX model (res2)\n",
    "# Load the test dataset\n",
    "#dateparse = lambda dates: pd.datetime.strptime(dates, '%Y-%m-%d')\n",
    "#test_data = pd.read_csv(\"/kaggle/input/ue21cs342aa2/test.csv\", index_col='Date', parse_dates=['Date'], date_parser=dateparse).fillna(0)\n",
    "test_data = test.rename_axis(None)\n",
    "\n",
    "# Make predictions on the test data\n",
    "predict_sari = model_fit.predict(start=len(train_data), end=len(train_data) + len(test_data) - 1)\n",
    "\n",
    "# Create a DataFrame for the predictions\n",
    "predictions_df = pd.DataFrame({'Close': predict_sari})"
   ]
  },
  {
   "cell_type": "code",
   "execution_count": null,
   "id": "bbdaf51b",
   "metadata": {
    "papermill": {
     "duration": 0.037794,
     "end_time": "2023-11-01T18:01:21.207039",
     "exception": false,
     "start_time": "2023-11-01T18:01:21.169245",
     "status": "completed"
    },
    "tags": []
   },
   "outputs": [],
   "source": []
  },
  {
   "cell_type": "code",
   "execution_count": 32,
   "id": "7d1a7939",
   "metadata": {
    "execution": {
     "iopub.execute_input": "2023-11-01T18:01:21.285018Z",
     "iopub.status.busy": "2023-11-01T18:01:21.284605Z",
     "iopub.status.idle": "2023-11-01T18:01:21.301795Z",
     "shell.execute_reply": "2023-11-01T18:01:21.300676Z"
    },
    "papermill": {
     "duration": 0.058943,
     "end_time": "2023-11-01T18:01:21.304028",
     "exception": false,
     "start_time": "2023-11-01T18:01:21.245085",
     "status": "completed"
    },
    "tags": []
   },
   "outputs": [
    {
     "data": {
      "text/html": [
       "<div>\n",
       "<style scoped>\n",
       "    .dataframe tbody tr th:only-of-type {\n",
       "        vertical-align: middle;\n",
       "    }\n",
       "\n",
       "    .dataframe tbody tr th {\n",
       "        vertical-align: top;\n",
       "    }\n",
       "\n",
       "    .dataframe thead th {\n",
       "        text-align: right;\n",
       "    }\n",
       "</style>\n",
       "<table border=\"1\" class=\"dataframe\">\n",
       "  <thead>\n",
       "    <tr style=\"text-align: right;\">\n",
       "      <th></th>\n",
       "      <th>id</th>\n",
       "      <th>Open</th>\n",
       "      <th>Volume</th>\n",
       "      <th>Close</th>\n",
       "    </tr>\n",
       "  </thead>\n",
       "  <tbody>\n",
       "    <tr>\n",
       "      <th>2021-03-01</th>\n",
       "      <td>0</td>\n",
       "      <td>72.708331</td>\n",
       "      <td>205897600</td>\n",
       "      <td>79.745578</td>\n",
       "    </tr>\n",
       "    <tr>\n",
       "      <th>2021-03-08</th>\n",
       "      <td>1</td>\n",
       "      <td>73.310886</td>\n",
       "      <td>214095600</td>\n",
       "      <td>79.244268</td>\n",
       "    </tr>\n",
       "    <tr>\n",
       "      <th>2021-03-15</th>\n",
       "      <td>2</td>\n",
       "      <td>70.610119</td>\n",
       "      <td>151601700</td>\n",
       "      <td>78.546732</td>\n",
       "    </tr>\n",
       "    <tr>\n",
       "      <th>2021-03-22</th>\n",
       "      <td>3</td>\n",
       "      <td>70.256017</td>\n",
       "      <td>193982500</td>\n",
       "      <td>79.553506</td>\n",
       "    </tr>\n",
       "    <tr>\n",
       "      <th>2021-03-29</th>\n",
       "      <td>4</td>\n",
       "      <td>68.258324</td>\n",
       "      <td>220238400</td>\n",
       "      <td>79.142505</td>\n",
       "    </tr>\n",
       "    <tr>\n",
       "      <th>...</th>\n",
       "      <td>...</td>\n",
       "      <td>...</td>\n",
       "      <td>...</td>\n",
       "      <td>...</td>\n",
       "    </tr>\n",
       "    <tr>\n",
       "      <th>2022-12-26</th>\n",
       "      <td>95</td>\n",
       "      <td>57.048622</td>\n",
       "      <td>224994700</td>\n",
       "      <td>79.494042</td>\n",
       "    </tr>\n",
       "    <tr>\n",
       "      <th>2023-01-02</th>\n",
       "      <td>96</td>\n",
       "      <td>60.569661</td>\n",
       "      <td>176020500</td>\n",
       "      <td>79.533800</td>\n",
       "    </tr>\n",
       "    <tr>\n",
       "      <th>2023-01-09</th>\n",
       "      <td>97</td>\n",
       "      <td>61.446777</td>\n",
       "      <td>181478600</td>\n",
       "      <td>79.502580</td>\n",
       "    </tr>\n",
       "    <tr>\n",
       "      <th>2023-01-16</th>\n",
       "      <td>98</td>\n",
       "      <td>55.447711</td>\n",
       "      <td>162471700</td>\n",
       "      <td>79.459139</td>\n",
       "    </tr>\n",
       "    <tr>\n",
       "      <th>2023-01-23</th>\n",
       "      <td>99</td>\n",
       "      <td>57.008939</td>\n",
       "      <td>178924000</td>\n",
       "      <td>79.521838</td>\n",
       "    </tr>\n",
       "  </tbody>\n",
       "</table>\n",
       "<p>100 rows × 4 columns</p>\n",
       "</div>"
      ],
      "text/plain": [
       "            id       Open     Volume      Close\n",
       "2021-03-01   0  72.708331  205897600  79.745578\n",
       "2021-03-08   1  73.310886  214095600  79.244268\n",
       "2021-03-15   2  70.610119  151601700  78.546732\n",
       "2021-03-22   3  70.256017  193982500  79.553506\n",
       "2021-03-29   4  68.258324  220238400  79.142505\n",
       "...         ..        ...        ...        ...\n",
       "2022-12-26  95  57.048622  224994700  79.494042\n",
       "2023-01-02  96  60.569661  176020500  79.533800\n",
       "2023-01-09  97  61.446777  181478600  79.502580\n",
       "2023-01-16  98  55.447711  162471700  79.459139\n",
       "2023-01-23  99  57.008939  178924000  79.521838\n",
       "\n",
       "[100 rows x 4 columns]"
      ]
     },
     "execution_count": 32,
     "metadata": {},
     "output_type": "execute_result"
    }
   ],
   "source": [
    "test_data=pd.concat([test_data,predictions_df],axis=1)\n",
    "test_data"
   ]
  },
  {
   "cell_type": "code",
   "execution_count": 33,
   "id": "7fcbe46f",
   "metadata": {
    "execution": {
     "iopub.execute_input": "2023-11-01T18:01:21.382368Z",
     "iopub.status.busy": "2023-11-01T18:01:21.381946Z",
     "iopub.status.idle": "2023-11-01T18:01:21.394898Z",
     "shell.execute_reply": "2023-11-01T18:01:21.393574Z"
    },
    "papermill": {
     "duration": 0.055093,
     "end_time": "2023-11-01T18:01:21.397584",
     "exception": false,
     "start_time": "2023-11-01T18:01:21.342491",
     "status": "completed"
    },
    "tags": []
   },
   "outputs": [],
   "source": [
    "train_data = pd.read_csv(\"/kaggle/input/ue21cs342aa2/train.csv\",)"
   ]
  },
  {
   "cell_type": "code",
   "execution_count": 34,
   "id": "9c771eed",
   "metadata": {
    "execution": {
     "iopub.execute_input": "2023-11-01T18:01:21.478191Z",
     "iopub.status.busy": "2023-11-01T18:01:21.477759Z",
     "iopub.status.idle": "2023-11-01T18:01:21.496135Z",
     "shell.execute_reply": "2023-11-01T18:01:21.495241Z"
    },
    "papermill": {
     "duration": 0.062414,
     "end_time": "2023-11-01T18:01:21.498446",
     "exception": false,
     "start_time": "2023-11-01T18:01:21.436032",
     "status": "completed"
    },
    "tags": []
   },
   "outputs": [
    {
     "data": {
      "text/html": [
       "<div>\n",
       "<style scoped>\n",
       "    .dataframe tbody tr th:only-of-type {\n",
       "        vertical-align: middle;\n",
       "    }\n",
       "\n",
       "    .dataframe tbody tr th {\n",
       "        vertical-align: top;\n",
       "    }\n",
       "\n",
       "    .dataframe thead th {\n",
       "        text-align: right;\n",
       "    }\n",
       "</style>\n",
       "<table border=\"1\" class=\"dataframe\">\n",
       "  <thead>\n",
       "    <tr style=\"text-align: right;\">\n",
       "      <th></th>\n",
       "      <th>id</th>\n",
       "      <th>Open</th>\n",
       "      <th>Close</th>\n",
       "      <th>Volume</th>\n",
       "      <th>Strategy</th>\n",
       "    </tr>\n",
       "    <tr>\n",
       "      <th>Date</th>\n",
       "      <th></th>\n",
       "      <th></th>\n",
       "      <th></th>\n",
       "      <th></th>\n",
       "      <th></th>\n",
       "    </tr>\n",
       "  </thead>\n",
       "  <tbody>\n",
       "    <tr>\n",
       "      <th>2015-06-01</th>\n",
       "      <td>0</td>\n",
       "      <td>66.208486</td>\n",
       "      <td>75.609978</td>\n",
       "      <td>298506300</td>\n",
       "      <td>Hold</td>\n",
       "    </tr>\n",
       "    <tr>\n",
       "      <th>2015-06-08</th>\n",
       "      <td>1</td>\n",
       "      <td>64.116235</td>\n",
       "      <td>74.443331</td>\n",
       "      <td>227974800</td>\n",
       "      <td>Hold</td>\n",
       "    </tr>\n",
       "    <tr>\n",
       "      <th>2015-06-15</th>\n",
       "      <td>2</td>\n",
       "      <td>47.701942</td>\n",
       "      <td>71.140831</td>\n",
       "      <td>250670900</td>\n",
       "      <td>Buy</td>\n",
       "    </tr>\n",
       "    <tr>\n",
       "      <th>2015-06-22</th>\n",
       "      <td>3</td>\n",
       "      <td>54.754816</td>\n",
       "      <td>72.881344</td>\n",
       "      <td>223614300</td>\n",
       "      <td>Hold</td>\n",
       "    </tr>\n",
       "    <tr>\n",
       "      <th>2015-06-29</th>\n",
       "      <td>4</td>\n",
       "      <td>48.031899</td>\n",
       "      <td>66.284718</td>\n",
       "      <td>406814900</td>\n",
       "      <td>Buy</td>\n",
       "    </tr>\n",
       "    <tr>\n",
       "      <th>...</th>\n",
       "      <td>...</td>\n",
       "      <td>...</td>\n",
       "      <td>...</td>\n",
       "      <td>...</td>\n",
       "      <td>...</td>\n",
       "    </tr>\n",
       "    <tr>\n",
       "      <th>2021-01-25</th>\n",
       "      <td>295</td>\n",
       "      <td>81.284821</td>\n",
       "      <td>83.373498</td>\n",
       "      <td>117281600</td>\n",
       "      <td>Sell</td>\n",
       "    </tr>\n",
       "    <tr>\n",
       "      <th>2021-02-01</th>\n",
       "      <td>296</td>\n",
       "      <td>71.970249</td>\n",
       "      <td>85.294903</td>\n",
       "      <td>177655800</td>\n",
       "      <td>Sell</td>\n",
       "    </tr>\n",
       "    <tr>\n",
       "      <th>2021-02-08</th>\n",
       "      <td>297</td>\n",
       "      <td>71.784627</td>\n",
       "      <td>83.266453</td>\n",
       "      <td>146003500</td>\n",
       "      <td>Hold</td>\n",
       "    </tr>\n",
       "    <tr>\n",
       "      <th>2021-02-15</th>\n",
       "      <td>298</td>\n",
       "      <td>69.372333</td>\n",
       "      <td>81.026827</td>\n",
       "      <td>167762500</td>\n",
       "      <td>Hold</td>\n",
       "    </tr>\n",
       "    <tr>\n",
       "      <th>2021-02-22</th>\n",
       "      <td>299</td>\n",
       "      <td>69.618620</td>\n",
       "      <td>78.672007</td>\n",
       "      <td>332979200</td>\n",
       "      <td>Hold</td>\n",
       "    </tr>\n",
       "  </tbody>\n",
       "</table>\n",
       "<p>300 rows × 5 columns</p>\n",
       "</div>"
      ],
      "text/plain": [
       "             id       Open      Close     Volume Strategy\n",
       "Date                                                     \n",
       "2015-06-01    0  66.208486  75.609978  298506300     Hold\n",
       "2015-06-08    1  64.116235  74.443331  227974800     Hold\n",
       "2015-06-15    2  47.701942  71.140831  250670900      Buy\n",
       "2015-06-22    3  54.754816  72.881344  223614300     Hold\n",
       "2015-06-29    4  48.031899  66.284718  406814900      Buy\n",
       "...         ...        ...        ...        ...      ...\n",
       "2021-01-25  295  81.284821  83.373498  117281600     Sell\n",
       "2021-02-01  296  71.970249  85.294903  177655800     Sell\n",
       "2021-02-08  297  71.784627  83.266453  146003500     Hold\n",
       "2021-02-15  298  69.372333  81.026827  167762500     Hold\n",
       "2021-02-22  299  69.618620  78.672007  332979200     Hold\n",
       "\n",
       "[300 rows x 5 columns]"
      ]
     },
     "execution_count": 34,
     "metadata": {},
     "output_type": "execute_result"
    }
   ],
   "source": [
    "train_data['Date'] = pd.to_datetime(train_data['Date'])\n",
    "train_data.set_index('Date',inplace=True)\n",
    "train_data"
   ]
  },
  {
   "cell_type": "code",
   "execution_count": 35,
   "id": "264b287a",
   "metadata": {
    "execution": {
     "iopub.execute_input": "2023-11-01T18:01:21.578373Z",
     "iopub.status.busy": "2023-11-01T18:01:21.577705Z",
     "iopub.status.idle": "2023-11-01T18:01:22.355562Z",
     "shell.execute_reply": "2023-11-01T18:01:22.354580Z"
    },
    "papermill": {
     "duration": 0.821153,
     "end_time": "2023-11-01T18:01:22.357894",
     "exception": false,
     "start_time": "2023-11-01T18:01:21.536741",
     "status": "completed"
    },
    "tags": []
   },
   "outputs": [
    {
     "name": "stdout",
     "output_type": "stream",
     "text": [
      "Random Forest Accuracy: 0.48333333333333334\n",
      "K-Nearest Neighbors Accuracy: 0.4\n",
      "Logistic Regression Accuracy: 0.4\n",
      "Decision Tree Accuracy: 0.55\n"
     ]
    }
   ],
   "source": [
    "import pandas as pd\n",
    "import numpy as np\n",
    "from sklearn.model_selection import train_test_split\n",
    "from sklearn.ensemble import RandomForestClassifier\n",
    "from sklearn.neighbors import KNeighborsClassifier\n",
    "from sklearn.linear_model import LogisticRegression\n",
    "from sklearn.tree import DecisionTreeClassifier\n",
    "from sklearn.svm import SVC  # Added for SVM\n",
    "import xgboost as xgb  # Added for XGBoost\n",
    "from sklearn.metrics import accuracy_score\n",
    "import matplotlib.pyplot as plt\n",
    "\n",
    "\n",
    "# Feature selection - You can choose relevant features from the dataset\n",
    "features = ['Open', 'Close', 'Volume']\n",
    "\n",
    "# Define the target variable (Strategy)\n",
    "target = 'Strategy'\n",
    "\n",
    "# Split the data into training and testing sets\n",
    "X = train_data[features]\n",
    "y = train_data[target]\n",
    "X_train, X_test, y_train, y_test = train_test_split(X, y, test_size=0.2, random_state=42)\n",
    "\n",
    "# Create and train the Random Forest model\n",
    "rf_model = RandomForestClassifier(n_estimators=100, random_state=42)\n",
    "rf_model.fit(X_train, y_train)\n",
    "rf_predictions = rf_model.predict(X_test)\n",
    "rf_accuracy = accuracy_score(y_test, rf_predictions)\n",
    "print(f\"Random Forest Accuracy: {rf_accuracy}\")\n",
    "\n",
    "# Create and train the K-Nearest Neighbors model\n",
    "knn_model = KNeighborsClassifier(n_neighbors=5)\n",
    "knn_model.fit(X_train, y_train)\n",
    "knn_predictions = knn_model.predict(X_test)\n",
    "knn_accuracy = accuracy_score(y_test, knn_predictions)\n",
    "print(f\"K-Nearest Neighbors Accuracy: {knn_accuracy}\")\n",
    "\n",
    "# Create and train the Logistic Regression model\n",
    "lr_model = LogisticRegression()\n",
    "lr_model.fit(X_train, y_train)\n",
    "lr_predictions = lr_model.predict(X_test)\n",
    "lr_accuracy = accuracy_score(y_test, lr_predictions)\n",
    "print(f\"Logistic Regression Accuracy: {lr_accuracy}\")\n",
    "\n",
    "# Create and train the Decision Tree model\n",
    "dt_model = DecisionTreeClassifier(random_state=42)\n",
    "dt_model.fit(X_train, y_train)\n",
    "dt_predictions = dt_model.predict(X_test)\n",
    "dt_accuracy = accuracy_score(y_test, dt_predictions)\n",
    "print(f\"Decision Tree Accuracy: {dt_accuracy}\")\n",
    "\n",
    "\n",
    "\n",
    "# Use the trained models to predict strategies for the test data\n",
    "test_features = test_data[features]\n",
    "\n",
    "test_predictions_rf = rf_model.predict(test_features)\n",
    "test_predictions_knn = knn_model.predict(test_features)\n",
    "test_predictions_lr = lr_model.predict(test_features)\n",
    "test_predictions_dt = dt_model.predict(test_features)\n",
    "\n",
    "\n",
    "# Save the predictions to a CSV file or take further action as needed\n",
    "test_data['Strategy_RF'] = test_predictions_rf\n",
    "test_data['Strategy_KNN'] = test_predictions_knn\n",
    "test_data['Strategy_LR'] = test_predictions_lr\n",
    "test_data['Strategy_DT'] = test_predictions_dt\n",
    "\n",
    "test_data.to_csv('test_predictions.csv', index=False)\n",
    "\n",
    "\n"
   ]
  },
  {
   "cell_type": "code",
   "execution_count": 36,
   "id": "9f18bd61",
   "metadata": {
    "execution": {
     "iopub.execute_input": "2023-11-01T18:01:22.436585Z",
     "iopub.status.busy": "2023-11-01T18:01:22.435519Z",
     "iopub.status.idle": "2023-11-01T18:01:22.453903Z",
     "shell.execute_reply": "2023-11-01T18:01:22.453057Z"
    },
    "papermill": {
     "duration": 0.060211,
     "end_time": "2023-11-01T18:01:22.456037",
     "exception": false,
     "start_time": "2023-11-01T18:01:22.395826",
     "status": "completed"
    },
    "tags": []
   },
   "outputs": [
    {
     "data": {
      "text/html": [
       "<div>\n",
       "<style scoped>\n",
       "    .dataframe tbody tr th:only-of-type {\n",
       "        vertical-align: middle;\n",
       "    }\n",
       "\n",
       "    .dataframe tbody tr th {\n",
       "        vertical-align: top;\n",
       "    }\n",
       "\n",
       "    .dataframe thead th {\n",
       "        text-align: right;\n",
       "    }\n",
       "</style>\n",
       "<table border=\"1\" class=\"dataframe\">\n",
       "  <thead>\n",
       "    <tr style=\"text-align: right;\">\n",
       "      <th></th>\n",
       "      <th>id</th>\n",
       "      <th>Open</th>\n",
       "      <th>Volume</th>\n",
       "      <th>Close</th>\n",
       "      <th>Strategy_RF</th>\n",
       "      <th>Strategy_KNN</th>\n",
       "      <th>Strategy_LR</th>\n",
       "      <th>Strategy_DT</th>\n",
       "    </tr>\n",
       "  </thead>\n",
       "  <tbody>\n",
       "    <tr>\n",
       "      <th>2021-03-01</th>\n",
       "      <td>0</td>\n",
       "      <td>72.708331</td>\n",
       "      <td>205897600</td>\n",
       "      <td>79.745578</td>\n",
       "      <td>Buy</td>\n",
       "      <td>Hold</td>\n",
       "      <td>Hold</td>\n",
       "      <td>Sell</td>\n",
       "    </tr>\n",
       "    <tr>\n",
       "      <th>2021-03-08</th>\n",
       "      <td>1</td>\n",
       "      <td>73.310886</td>\n",
       "      <td>214095600</td>\n",
       "      <td>79.244268</td>\n",
       "      <td>Buy</td>\n",
       "      <td>Sell</td>\n",
       "      <td>Hold</td>\n",
       "      <td>Sell</td>\n",
       "    </tr>\n",
       "    <tr>\n",
       "      <th>2021-03-15</th>\n",
       "      <td>2</td>\n",
       "      <td>70.610119</td>\n",
       "      <td>151601700</td>\n",
       "      <td>78.546732</td>\n",
       "      <td>Buy</td>\n",
       "      <td>Sell</td>\n",
       "      <td>Hold</td>\n",
       "      <td>Buy</td>\n",
       "    </tr>\n",
       "    <tr>\n",
       "      <th>2021-03-22</th>\n",
       "      <td>3</td>\n",
       "      <td>70.256017</td>\n",
       "      <td>193982500</td>\n",
       "      <td>79.553506</td>\n",
       "      <td>Hold</td>\n",
       "      <td>Buy</td>\n",
       "      <td>Hold</td>\n",
       "      <td>Hold</td>\n",
       "    </tr>\n",
       "    <tr>\n",
       "      <th>2021-03-29</th>\n",
       "      <td>4</td>\n",
       "      <td>68.258324</td>\n",
       "      <td>220238400</td>\n",
       "      <td>79.142505</td>\n",
       "      <td>Sell</td>\n",
       "      <td>Hold</td>\n",
       "      <td>Hold</td>\n",
       "      <td>Hold</td>\n",
       "    </tr>\n",
       "    <tr>\n",
       "      <th>...</th>\n",
       "      <td>...</td>\n",
       "      <td>...</td>\n",
       "      <td>...</td>\n",
       "      <td>...</td>\n",
       "      <td>...</td>\n",
       "      <td>...</td>\n",
       "      <td>...</td>\n",
       "      <td>...</td>\n",
       "    </tr>\n",
       "    <tr>\n",
       "      <th>2022-12-26</th>\n",
       "      <td>95</td>\n",
       "      <td>57.048622</td>\n",
       "      <td>224994700</td>\n",
       "      <td>79.494042</td>\n",
       "      <td>Hold</td>\n",
       "      <td>Buy</td>\n",
       "      <td>Hold</td>\n",
       "      <td>Hold</td>\n",
       "    </tr>\n",
       "    <tr>\n",
       "      <th>2023-01-02</th>\n",
       "      <td>96</td>\n",
       "      <td>60.569661</td>\n",
       "      <td>176020500</td>\n",
       "      <td>79.533800</td>\n",
       "      <td>Hold</td>\n",
       "      <td>Sell</td>\n",
       "      <td>Hold</td>\n",
       "      <td>Hold</td>\n",
       "    </tr>\n",
       "    <tr>\n",
       "      <th>2023-01-09</th>\n",
       "      <td>97</td>\n",
       "      <td>61.446777</td>\n",
       "      <td>181478600</td>\n",
       "      <td>79.502580</td>\n",
       "      <td>Sell</td>\n",
       "      <td>Hold</td>\n",
       "      <td>Hold</td>\n",
       "      <td>Hold</td>\n",
       "    </tr>\n",
       "    <tr>\n",
       "      <th>2023-01-16</th>\n",
       "      <td>98</td>\n",
       "      <td>55.447711</td>\n",
       "      <td>162471700</td>\n",
       "      <td>79.459139</td>\n",
       "      <td>Hold</td>\n",
       "      <td>Hold</td>\n",
       "      <td>Hold</td>\n",
       "      <td>Hold</td>\n",
       "    </tr>\n",
       "    <tr>\n",
       "      <th>2023-01-23</th>\n",
       "      <td>99</td>\n",
       "      <td>57.008939</td>\n",
       "      <td>178924000</td>\n",
       "      <td>79.521838</td>\n",
       "      <td>Hold</td>\n",
       "      <td>Hold</td>\n",
       "      <td>Hold</td>\n",
       "      <td>Hold</td>\n",
       "    </tr>\n",
       "  </tbody>\n",
       "</table>\n",
       "<p>100 rows × 8 columns</p>\n",
       "</div>"
      ],
      "text/plain": [
       "            id       Open     Volume      Close Strategy_RF Strategy_KNN  \\\n",
       "2021-03-01   0  72.708331  205897600  79.745578         Buy         Hold   \n",
       "2021-03-08   1  73.310886  214095600  79.244268         Buy         Sell   \n",
       "2021-03-15   2  70.610119  151601700  78.546732         Buy         Sell   \n",
       "2021-03-22   3  70.256017  193982500  79.553506        Hold          Buy   \n",
       "2021-03-29   4  68.258324  220238400  79.142505        Sell         Hold   \n",
       "...         ..        ...        ...        ...         ...          ...   \n",
       "2022-12-26  95  57.048622  224994700  79.494042        Hold          Buy   \n",
       "2023-01-02  96  60.569661  176020500  79.533800        Hold         Sell   \n",
       "2023-01-09  97  61.446777  181478600  79.502580        Sell         Hold   \n",
       "2023-01-16  98  55.447711  162471700  79.459139        Hold         Hold   \n",
       "2023-01-23  99  57.008939  178924000  79.521838        Hold         Hold   \n",
       "\n",
       "           Strategy_LR Strategy_DT  \n",
       "2021-03-01        Hold        Sell  \n",
       "2021-03-08        Hold        Sell  \n",
       "2021-03-15        Hold         Buy  \n",
       "2021-03-22        Hold        Hold  \n",
       "2021-03-29        Hold        Hold  \n",
       "...                ...         ...  \n",
       "2022-12-26        Hold        Hold  \n",
       "2023-01-02        Hold        Hold  \n",
       "2023-01-09        Hold        Hold  \n",
       "2023-01-16        Hold        Hold  \n",
       "2023-01-23        Hold        Hold  \n",
       "\n",
       "[100 rows x 8 columns]"
      ]
     },
     "execution_count": 36,
     "metadata": {},
     "output_type": "execute_result"
    }
   ],
   "source": [
    "test_data"
   ]
  },
  {
   "cell_type": "code",
   "execution_count": 37,
   "id": "60ce638b",
   "metadata": {
    "execution": {
     "iopub.execute_input": "2023-11-01T18:01:22.535707Z",
     "iopub.status.busy": "2023-11-01T18:01:22.535069Z",
     "iopub.status.idle": "2023-11-01T18:01:22.553535Z",
     "shell.execute_reply": "2023-11-01T18:01:22.552283Z"
    },
    "papermill": {
     "duration": 0.060852,
     "end_time": "2023-11-01T18:01:22.555858",
     "exception": false,
     "start_time": "2023-11-01T18:01:22.495006",
     "status": "completed"
    },
    "tags": []
   },
   "outputs": [
    {
     "data": {
      "text/html": [
       "<div>\n",
       "<style scoped>\n",
       "    .dataframe tbody tr th:only-of-type {\n",
       "        vertical-align: middle;\n",
       "    }\n",
       "\n",
       "    .dataframe tbody tr th {\n",
       "        vertical-align: top;\n",
       "    }\n",
       "\n",
       "    .dataframe thead th {\n",
       "        text-align: right;\n",
       "    }\n",
       "</style>\n",
       "<table border=\"1\" class=\"dataframe\">\n",
       "  <thead>\n",
       "    <tr style=\"text-align: right;\">\n",
       "      <th></th>\n",
       "      <th>id</th>\n",
       "      <th>Open</th>\n",
       "      <th>Volume</th>\n",
       "      <th>Close</th>\n",
       "      <th>Strategy_DT</th>\n",
       "    </tr>\n",
       "  </thead>\n",
       "  <tbody>\n",
       "    <tr>\n",
       "      <th>2021-03-01</th>\n",
       "      <td>0</td>\n",
       "      <td>72.708331</td>\n",
       "      <td>205897600</td>\n",
       "      <td>79.745578</td>\n",
       "      <td>Sell</td>\n",
       "    </tr>\n",
       "    <tr>\n",
       "      <th>2021-03-08</th>\n",
       "      <td>1</td>\n",
       "      <td>73.310886</td>\n",
       "      <td>214095600</td>\n",
       "      <td>79.244268</td>\n",
       "      <td>Sell</td>\n",
       "    </tr>\n",
       "    <tr>\n",
       "      <th>2021-03-15</th>\n",
       "      <td>2</td>\n",
       "      <td>70.610119</td>\n",
       "      <td>151601700</td>\n",
       "      <td>78.546732</td>\n",
       "      <td>Buy</td>\n",
       "    </tr>\n",
       "    <tr>\n",
       "      <th>2021-03-22</th>\n",
       "      <td>3</td>\n",
       "      <td>70.256017</td>\n",
       "      <td>193982500</td>\n",
       "      <td>79.553506</td>\n",
       "      <td>Hold</td>\n",
       "    </tr>\n",
       "    <tr>\n",
       "      <th>2021-03-29</th>\n",
       "      <td>4</td>\n",
       "      <td>68.258324</td>\n",
       "      <td>220238400</td>\n",
       "      <td>79.142505</td>\n",
       "      <td>Hold</td>\n",
       "    </tr>\n",
       "    <tr>\n",
       "      <th>...</th>\n",
       "      <td>...</td>\n",
       "      <td>...</td>\n",
       "      <td>...</td>\n",
       "      <td>...</td>\n",
       "      <td>...</td>\n",
       "    </tr>\n",
       "    <tr>\n",
       "      <th>2022-12-26</th>\n",
       "      <td>95</td>\n",
       "      <td>57.048622</td>\n",
       "      <td>224994700</td>\n",
       "      <td>79.494042</td>\n",
       "      <td>Hold</td>\n",
       "    </tr>\n",
       "    <tr>\n",
       "      <th>2023-01-02</th>\n",
       "      <td>96</td>\n",
       "      <td>60.569661</td>\n",
       "      <td>176020500</td>\n",
       "      <td>79.533800</td>\n",
       "      <td>Hold</td>\n",
       "    </tr>\n",
       "    <tr>\n",
       "      <th>2023-01-09</th>\n",
       "      <td>97</td>\n",
       "      <td>61.446777</td>\n",
       "      <td>181478600</td>\n",
       "      <td>79.502580</td>\n",
       "      <td>Hold</td>\n",
       "    </tr>\n",
       "    <tr>\n",
       "      <th>2023-01-16</th>\n",
       "      <td>98</td>\n",
       "      <td>55.447711</td>\n",
       "      <td>162471700</td>\n",
       "      <td>79.459139</td>\n",
       "      <td>Hold</td>\n",
       "    </tr>\n",
       "    <tr>\n",
       "      <th>2023-01-23</th>\n",
       "      <td>99</td>\n",
       "      <td>57.008939</td>\n",
       "      <td>178924000</td>\n",
       "      <td>79.521838</td>\n",
       "      <td>Hold</td>\n",
       "    </tr>\n",
       "  </tbody>\n",
       "</table>\n",
       "<p>100 rows × 5 columns</p>\n",
       "</div>"
      ],
      "text/plain": [
       "            id       Open     Volume      Close Strategy_DT\n",
       "2021-03-01   0  72.708331  205897600  79.745578        Sell\n",
       "2021-03-08   1  73.310886  214095600  79.244268        Sell\n",
       "2021-03-15   2  70.610119  151601700  78.546732         Buy\n",
       "2021-03-22   3  70.256017  193982500  79.553506        Hold\n",
       "2021-03-29   4  68.258324  220238400  79.142505        Hold\n",
       "...         ..        ...        ...        ...         ...\n",
       "2022-12-26  95  57.048622  224994700  79.494042        Hold\n",
       "2023-01-02  96  60.569661  176020500  79.533800        Hold\n",
       "2023-01-09  97  61.446777  181478600  79.502580        Hold\n",
       "2023-01-16  98  55.447711  162471700  79.459139        Hold\n",
       "2023-01-23  99  57.008939  178924000  79.521838        Hold\n",
       "\n",
       "[100 rows x 5 columns]"
      ]
     },
     "execution_count": 37,
     "metadata": {},
     "output_type": "execute_result"
    }
   ],
   "source": [
    "test_data.drop(['Strategy_RF', 'Strategy_KNN', 'Strategy_LR'], axis=1, inplace=True)\n",
    "test_data"
   ]
  },
  {
   "cell_type": "code",
   "execution_count": 38,
   "id": "28734527",
   "metadata": {
    "execution": {
     "iopub.execute_input": "2023-11-01T18:01:22.636500Z",
     "iopub.status.busy": "2023-11-01T18:01:22.635337Z",
     "iopub.status.idle": "2023-11-01T18:01:22.652298Z",
     "shell.execute_reply": "2023-11-01T18:01:22.651200Z"
    },
    "papermill": {
     "duration": 0.059726,
     "end_time": "2023-11-01T18:01:22.654787",
     "exception": false,
     "start_time": "2023-11-01T18:01:22.595061",
     "status": "completed"
    },
    "tags": []
   },
   "outputs": [
    {
     "data": {
      "text/html": [
       "<div>\n",
       "<style scoped>\n",
       "    .dataframe tbody tr th:only-of-type {\n",
       "        vertical-align: middle;\n",
       "    }\n",
       "\n",
       "    .dataframe tbody tr th {\n",
       "        vertical-align: top;\n",
       "    }\n",
       "\n",
       "    .dataframe thead th {\n",
       "        text-align: right;\n",
       "    }\n",
       "</style>\n",
       "<table border=\"1\" class=\"dataframe\">\n",
       "  <thead>\n",
       "    <tr style=\"text-align: right;\">\n",
       "      <th></th>\n",
       "      <th>id</th>\n",
       "      <th>Open</th>\n",
       "      <th>Volume</th>\n",
       "      <th>Close</th>\n",
       "      <th>Strategy</th>\n",
       "    </tr>\n",
       "  </thead>\n",
       "  <tbody>\n",
       "    <tr>\n",
       "      <th>2021-03-01</th>\n",
       "      <td>0</td>\n",
       "      <td>72.708331</td>\n",
       "      <td>205897600</td>\n",
       "      <td>79.745578</td>\n",
       "      <td>Sell</td>\n",
       "    </tr>\n",
       "    <tr>\n",
       "      <th>2021-03-08</th>\n",
       "      <td>1</td>\n",
       "      <td>73.310886</td>\n",
       "      <td>214095600</td>\n",
       "      <td>79.244268</td>\n",
       "      <td>Sell</td>\n",
       "    </tr>\n",
       "    <tr>\n",
       "      <th>2021-03-15</th>\n",
       "      <td>2</td>\n",
       "      <td>70.610119</td>\n",
       "      <td>151601700</td>\n",
       "      <td>78.546732</td>\n",
       "      <td>Buy</td>\n",
       "    </tr>\n",
       "    <tr>\n",
       "      <th>2021-03-22</th>\n",
       "      <td>3</td>\n",
       "      <td>70.256017</td>\n",
       "      <td>193982500</td>\n",
       "      <td>79.553506</td>\n",
       "      <td>Hold</td>\n",
       "    </tr>\n",
       "    <tr>\n",
       "      <th>2021-03-29</th>\n",
       "      <td>4</td>\n",
       "      <td>68.258324</td>\n",
       "      <td>220238400</td>\n",
       "      <td>79.142505</td>\n",
       "      <td>Hold</td>\n",
       "    </tr>\n",
       "    <tr>\n",
       "      <th>...</th>\n",
       "      <td>...</td>\n",
       "      <td>...</td>\n",
       "      <td>...</td>\n",
       "      <td>...</td>\n",
       "      <td>...</td>\n",
       "    </tr>\n",
       "    <tr>\n",
       "      <th>2022-12-26</th>\n",
       "      <td>95</td>\n",
       "      <td>57.048622</td>\n",
       "      <td>224994700</td>\n",
       "      <td>79.494042</td>\n",
       "      <td>Hold</td>\n",
       "    </tr>\n",
       "    <tr>\n",
       "      <th>2023-01-02</th>\n",
       "      <td>96</td>\n",
       "      <td>60.569661</td>\n",
       "      <td>176020500</td>\n",
       "      <td>79.533800</td>\n",
       "      <td>Hold</td>\n",
       "    </tr>\n",
       "    <tr>\n",
       "      <th>2023-01-09</th>\n",
       "      <td>97</td>\n",
       "      <td>61.446777</td>\n",
       "      <td>181478600</td>\n",
       "      <td>79.502580</td>\n",
       "      <td>Hold</td>\n",
       "    </tr>\n",
       "    <tr>\n",
       "      <th>2023-01-16</th>\n",
       "      <td>98</td>\n",
       "      <td>55.447711</td>\n",
       "      <td>162471700</td>\n",
       "      <td>79.459139</td>\n",
       "      <td>Hold</td>\n",
       "    </tr>\n",
       "    <tr>\n",
       "      <th>2023-01-23</th>\n",
       "      <td>99</td>\n",
       "      <td>57.008939</td>\n",
       "      <td>178924000</td>\n",
       "      <td>79.521838</td>\n",
       "      <td>Hold</td>\n",
       "    </tr>\n",
       "  </tbody>\n",
       "</table>\n",
       "<p>100 rows × 5 columns</p>\n",
       "</div>"
      ],
      "text/plain": [
       "            id       Open     Volume      Close Strategy\n",
       "2021-03-01   0  72.708331  205897600  79.745578     Sell\n",
       "2021-03-08   1  73.310886  214095600  79.244268     Sell\n",
       "2021-03-15   2  70.610119  151601700  78.546732      Buy\n",
       "2021-03-22   3  70.256017  193982500  79.553506     Hold\n",
       "2021-03-29   4  68.258324  220238400  79.142505     Hold\n",
       "...         ..        ...        ...        ...      ...\n",
       "2022-12-26  95  57.048622  224994700  79.494042     Hold\n",
       "2023-01-02  96  60.569661  176020500  79.533800     Hold\n",
       "2023-01-09  97  61.446777  181478600  79.502580     Hold\n",
       "2023-01-16  98  55.447711  162471700  79.459139     Hold\n",
       "2023-01-23  99  57.008939  178924000  79.521838     Hold\n",
       "\n",
       "[100 rows x 5 columns]"
      ]
     },
     "execution_count": 38,
     "metadata": {},
     "output_type": "execute_result"
    }
   ],
   "source": [
    "test_data.rename(columns={'Strategy_DT': 'Strategy'}, inplace=True)\n",
    "test_data"
   ]
  },
  {
   "cell_type": "code",
   "execution_count": 39,
   "id": "987b4fca",
   "metadata": {
    "execution": {
     "iopub.execute_input": "2023-11-01T18:01:22.734653Z",
     "iopub.status.busy": "2023-11-01T18:01:22.734215Z",
     "iopub.status.idle": "2023-11-01T18:01:22.754017Z",
     "shell.execute_reply": "2023-11-01T18:01:22.752814Z"
    },
    "papermill": {
     "duration": 0.062627,
     "end_time": "2023-11-01T18:01:22.756308",
     "exception": false,
     "start_time": "2023-11-01T18:01:22.693681",
     "status": "completed"
    },
    "tags": []
   },
   "outputs": [
    {
     "data": {
      "text/html": [
       "<div>\n",
       "<style scoped>\n",
       "    .dataframe tbody tr th:only-of-type {\n",
       "        vertical-align: middle;\n",
       "    }\n",
       "\n",
       "    .dataframe tbody tr th {\n",
       "        vertical-align: top;\n",
       "    }\n",
       "\n",
       "    .dataframe thead th {\n",
       "        text-align: right;\n",
       "    }\n",
       "</style>\n",
       "<table border=\"1\" class=\"dataframe\">\n",
       "  <thead>\n",
       "    <tr style=\"text-align: right;\">\n",
       "      <th></th>\n",
       "      <th>Date</th>\n",
       "      <th>Open</th>\n",
       "      <th>Volume</th>\n",
       "      <th>Close</th>\n",
       "      <th>Strategy</th>\n",
       "    </tr>\n",
       "    <tr>\n",
       "      <th>id</th>\n",
       "      <th></th>\n",
       "      <th></th>\n",
       "      <th></th>\n",
       "      <th></th>\n",
       "      <th></th>\n",
       "    </tr>\n",
       "  </thead>\n",
       "  <tbody>\n",
       "    <tr>\n",
       "      <th>0</th>\n",
       "      <td>2021-03-01</td>\n",
       "      <td>72.708331</td>\n",
       "      <td>205897600</td>\n",
       "      <td>79.745578</td>\n",
       "      <td>Sell</td>\n",
       "    </tr>\n",
       "    <tr>\n",
       "      <th>1</th>\n",
       "      <td>2021-03-08</td>\n",
       "      <td>73.310886</td>\n",
       "      <td>214095600</td>\n",
       "      <td>79.244268</td>\n",
       "      <td>Sell</td>\n",
       "    </tr>\n",
       "    <tr>\n",
       "      <th>2</th>\n",
       "      <td>2021-03-15</td>\n",
       "      <td>70.610119</td>\n",
       "      <td>151601700</td>\n",
       "      <td>78.546732</td>\n",
       "      <td>Buy</td>\n",
       "    </tr>\n",
       "    <tr>\n",
       "      <th>3</th>\n",
       "      <td>2021-03-22</td>\n",
       "      <td>70.256017</td>\n",
       "      <td>193982500</td>\n",
       "      <td>79.553506</td>\n",
       "      <td>Hold</td>\n",
       "    </tr>\n",
       "    <tr>\n",
       "      <th>4</th>\n",
       "      <td>2021-03-29</td>\n",
       "      <td>68.258324</td>\n",
       "      <td>220238400</td>\n",
       "      <td>79.142505</td>\n",
       "      <td>Hold</td>\n",
       "    </tr>\n",
       "    <tr>\n",
       "      <th>...</th>\n",
       "      <td>...</td>\n",
       "      <td>...</td>\n",
       "      <td>...</td>\n",
       "      <td>...</td>\n",
       "      <td>...</td>\n",
       "    </tr>\n",
       "    <tr>\n",
       "      <th>95</th>\n",
       "      <td>2022-12-26</td>\n",
       "      <td>57.048622</td>\n",
       "      <td>224994700</td>\n",
       "      <td>79.494042</td>\n",
       "      <td>Hold</td>\n",
       "    </tr>\n",
       "    <tr>\n",
       "      <th>96</th>\n",
       "      <td>2023-01-02</td>\n",
       "      <td>60.569661</td>\n",
       "      <td>176020500</td>\n",
       "      <td>79.533800</td>\n",
       "      <td>Hold</td>\n",
       "    </tr>\n",
       "    <tr>\n",
       "      <th>97</th>\n",
       "      <td>2023-01-09</td>\n",
       "      <td>61.446777</td>\n",
       "      <td>181478600</td>\n",
       "      <td>79.502580</td>\n",
       "      <td>Hold</td>\n",
       "    </tr>\n",
       "    <tr>\n",
       "      <th>98</th>\n",
       "      <td>2023-01-16</td>\n",
       "      <td>55.447711</td>\n",
       "      <td>162471700</td>\n",
       "      <td>79.459139</td>\n",
       "      <td>Hold</td>\n",
       "    </tr>\n",
       "    <tr>\n",
       "      <th>99</th>\n",
       "      <td>2023-01-23</td>\n",
       "      <td>57.008939</td>\n",
       "      <td>178924000</td>\n",
       "      <td>79.521838</td>\n",
       "      <td>Hold</td>\n",
       "    </tr>\n",
       "  </tbody>\n",
       "</table>\n",
       "<p>100 rows × 5 columns</p>\n",
       "</div>"
      ],
      "text/plain": [
       "         Date       Open     Volume      Close Strategy\n",
       "id                                                     \n",
       "0  2021-03-01  72.708331  205897600  79.745578     Sell\n",
       "1  2021-03-08  73.310886  214095600  79.244268     Sell\n",
       "2  2021-03-15  70.610119  151601700  78.546732      Buy\n",
       "3  2021-03-22  70.256017  193982500  79.553506     Hold\n",
       "4  2021-03-29  68.258324  220238400  79.142505     Hold\n",
       "..        ...        ...        ...        ...      ...\n",
       "95 2022-12-26  57.048622  224994700  79.494042     Hold\n",
       "96 2023-01-02  60.569661  176020500  79.533800     Hold\n",
       "97 2023-01-09  61.446777  181478600  79.502580     Hold\n",
       "98 2023-01-16  55.447711  162471700  79.459139     Hold\n",
       "99 2023-01-23  57.008939  178924000  79.521838     Hold\n",
       "\n",
       "[100 rows x 5 columns]"
      ]
     },
     "execution_count": 39,
     "metadata": {},
     "output_type": "execute_result"
    }
   ],
   "source": [
    "\n",
    "test_data.reset_index(inplace=True)\n",
    "test_data.rename(columns={'index': 'Date'}, inplace=True)\n",
    "test_data.set_index('id', inplace=True)\n",
    "test_data"
   ]
  },
  {
   "cell_type": "code",
   "execution_count": 40,
   "id": "5852e14c",
   "metadata": {
    "execution": {
     "iopub.execute_input": "2023-11-01T18:01:22.838024Z",
     "iopub.status.busy": "2023-11-01T18:01:22.837045Z",
     "iopub.status.idle": "2023-11-01T18:01:22.842218Z",
     "shell.execute_reply": "2023-11-01T18:01:22.841274Z"
    },
    "papermill": {
     "duration": 0.04862,
     "end_time": "2023-11-01T18:01:22.844535",
     "exception": false,
     "start_time": "2023-11-01T18:01:22.795915",
     "status": "completed"
    },
    "tags": []
   },
   "outputs": [],
   "source": [
    "#test_data.to_csv('test_data.csv')"
   ]
  },
  {
   "cell_type": "code",
   "execution_count": 41,
   "id": "d3d08f44",
   "metadata": {
    "execution": {
     "iopub.execute_input": "2023-11-01T18:01:22.925803Z",
     "iopub.status.busy": "2023-11-01T18:01:22.925168Z",
     "iopub.status.idle": "2023-11-01T18:01:22.931891Z",
     "shell.execute_reply": "2023-11-01T18:01:22.930991Z"
    },
    "papermill": {
     "duration": 0.049712,
     "end_time": "2023-11-01T18:01:22.933868",
     "exception": false,
     "start_time": "2023-11-01T18:01:22.884156",
     "status": "completed"
    },
    "tags": []
   },
   "outputs": [],
   "source": [
    "submission = pd.DataFrame()\n",
    "submission[\"Date\"] = test_data[\"Date\"]"
   ]
  },
  {
   "cell_type": "code",
   "execution_count": 42,
   "id": "9dc93db5",
   "metadata": {
    "execution": {
     "iopub.execute_input": "2023-11-01T18:01:23.015517Z",
     "iopub.status.busy": "2023-11-01T18:01:23.014797Z",
     "iopub.status.idle": "2023-11-01T18:01:23.025829Z",
     "shell.execute_reply": "2023-11-01T18:01:23.024792Z"
    },
    "papermill": {
     "duration": 0.054723,
     "end_time": "2023-11-01T18:01:23.028113",
     "exception": false,
     "start_time": "2023-11-01T18:01:22.973390",
     "status": "completed"
    },
    "tags": []
   },
   "outputs": [
    {
     "data": {
      "text/html": [
       "<div>\n",
       "<style scoped>\n",
       "    .dataframe tbody tr th:only-of-type {\n",
       "        vertical-align: middle;\n",
       "    }\n",
       "\n",
       "    .dataframe tbody tr th {\n",
       "        vertical-align: top;\n",
       "    }\n",
       "\n",
       "    .dataframe thead th {\n",
       "        text-align: right;\n",
       "    }\n",
       "</style>\n",
       "<table border=\"1\" class=\"dataframe\">\n",
       "  <thead>\n",
       "    <tr style=\"text-align: right;\">\n",
       "      <th></th>\n",
       "      <th>Date</th>\n",
       "    </tr>\n",
       "    <tr>\n",
       "      <th>id</th>\n",
       "      <th></th>\n",
       "    </tr>\n",
       "  </thead>\n",
       "  <tbody>\n",
       "    <tr>\n",
       "      <th>0</th>\n",
       "      <td>2021-03-01</td>\n",
       "    </tr>\n",
       "    <tr>\n",
       "      <th>1</th>\n",
       "      <td>2021-03-08</td>\n",
       "    </tr>\n",
       "    <tr>\n",
       "      <th>2</th>\n",
       "      <td>2021-03-15</td>\n",
       "    </tr>\n",
       "    <tr>\n",
       "      <th>3</th>\n",
       "      <td>2021-03-22</td>\n",
       "    </tr>\n",
       "    <tr>\n",
       "      <th>4</th>\n",
       "      <td>2021-03-29</td>\n",
       "    </tr>\n",
       "    <tr>\n",
       "      <th>...</th>\n",
       "      <td>...</td>\n",
       "    </tr>\n",
       "    <tr>\n",
       "      <th>95</th>\n",
       "      <td>2022-12-26</td>\n",
       "    </tr>\n",
       "    <tr>\n",
       "      <th>96</th>\n",
       "      <td>2023-01-02</td>\n",
       "    </tr>\n",
       "    <tr>\n",
       "      <th>97</th>\n",
       "      <td>2023-01-09</td>\n",
       "    </tr>\n",
       "    <tr>\n",
       "      <th>98</th>\n",
       "      <td>2023-01-16</td>\n",
       "    </tr>\n",
       "    <tr>\n",
       "      <th>99</th>\n",
       "      <td>2023-01-23</td>\n",
       "    </tr>\n",
       "  </tbody>\n",
       "</table>\n",
       "<p>100 rows × 1 columns</p>\n",
       "</div>"
      ],
      "text/plain": [
       "         Date\n",
       "id           \n",
       "0  2021-03-01\n",
       "1  2021-03-08\n",
       "2  2021-03-15\n",
       "3  2021-03-22\n",
       "4  2021-03-29\n",
       "..        ...\n",
       "95 2022-12-26\n",
       "96 2023-01-02\n",
       "97 2023-01-09\n",
       "98 2023-01-16\n",
       "99 2023-01-23\n",
       "\n",
       "[100 rows x 1 columns]"
      ]
     },
     "execution_count": 42,
     "metadata": {},
     "output_type": "execute_result"
    }
   ],
   "source": [
    "submission"
   ]
  },
  {
   "cell_type": "code",
   "execution_count": 43,
   "id": "0ea3b011",
   "metadata": {
    "execution": {
     "iopub.execute_input": "2023-11-01T18:01:23.110356Z",
     "iopub.status.busy": "2023-11-01T18:01:23.109922Z",
     "iopub.status.idle": "2023-11-01T18:01:23.114549Z",
     "shell.execute_reply": "2023-11-01T18:01:23.113521Z"
    },
    "papermill": {
     "duration": 0.048753,
     "end_time": "2023-11-01T18:01:23.116730",
     "exception": false,
     "start_time": "2023-11-01T18:01:23.067977",
     "status": "completed"
    },
    "tags": []
   },
   "outputs": [],
   "source": [
    "#sample_submission = pd.read_csv('test_data.csv', index_col = 0)"
   ]
  },
  {
   "cell_type": "code",
   "execution_count": 44,
   "id": "9c49b753",
   "metadata": {
    "execution": {
     "iopub.execute_input": "2023-11-01T18:01:23.198593Z",
     "iopub.status.busy": "2023-11-01T18:01:23.197873Z",
     "iopub.status.idle": "2023-11-01T18:01:23.202036Z",
     "shell.execute_reply": "2023-11-01T18:01:23.201168Z"
    },
    "papermill": {
     "duration": 0.047447,
     "end_time": "2023-11-01T18:01:23.204088",
     "exception": false,
     "start_time": "2023-11-01T18:01:23.156641",
     "status": "completed"
    },
    "tags": []
   },
   "outputs": [],
   "source": [
    "#sample_submission"
   ]
  },
  {
   "cell_type": "code",
   "execution_count": 45,
   "id": "a243a3b0",
   "metadata": {
    "execution": {
     "iopub.execute_input": "2023-11-01T18:01:23.285694Z",
     "iopub.status.busy": "2023-11-01T18:01:23.284967Z",
     "iopub.status.idle": "2023-11-01T18:01:23.289969Z",
     "shell.execute_reply": "2023-11-01T18:01:23.289223Z"
    },
    "papermill": {
     "duration": 0.048382,
     "end_time": "2023-11-01T18:01:23.292152",
     "exception": false,
     "start_time": "2023-11-01T18:01:23.243770",
     "status": "completed"
    },
    "tags": []
   },
   "outputs": [],
   "source": [
    "submission['Close']=test_data['Close']\n"
   ]
  },
  {
   "cell_type": "code",
   "execution_count": 46,
   "id": "e36199b4",
   "metadata": {
    "execution": {
     "iopub.execute_input": "2023-11-01T18:01:23.374214Z",
     "iopub.status.busy": "2023-11-01T18:01:23.373486Z",
     "iopub.status.idle": "2023-11-01T18:01:23.381083Z",
     "shell.execute_reply": "2023-11-01T18:01:23.380332Z"
    },
    "papermill": {
     "duration": 0.0514,
     "end_time": "2023-11-01T18:01:23.383097",
     "exception": false,
     "start_time": "2023-11-01T18:01:23.331697",
     "status": "completed"
    },
    "tags": []
   },
   "outputs": [
    {
     "data": {
      "text/plain": [
       "id\n",
       "0     79.745578\n",
       "1     79.244268\n",
       "2     78.546732\n",
       "3     79.553506\n",
       "4     79.142505\n",
       "        ...    \n",
       "95    79.494042\n",
       "96    79.533800\n",
       "97    79.502580\n",
       "98    79.459139\n",
       "99    79.521838\n",
       "Name: Close, Length: 100, dtype: float64"
      ]
     },
     "execution_count": 46,
     "metadata": {},
     "output_type": "execute_result"
    }
   ],
   "source": [
    "submission['Close']"
   ]
  },
  {
   "cell_type": "code",
   "execution_count": 47,
   "id": "08b54bc1",
   "metadata": {
    "execution": {
     "iopub.execute_input": "2023-11-01T18:01:23.466034Z",
     "iopub.status.busy": "2023-11-01T18:01:23.465413Z",
     "iopub.status.idle": "2023-11-01T18:01:23.470389Z",
     "shell.execute_reply": "2023-11-01T18:01:23.469613Z"
    },
    "papermill": {
     "duration": 0.049206,
     "end_time": "2023-11-01T18:01:23.472499",
     "exception": false,
     "start_time": "2023-11-01T18:01:23.423293",
     "status": "completed"
    },
    "tags": []
   },
   "outputs": [],
   "source": [
    "submission[\"Strategy\"] = test_data[\"Strategy\"]"
   ]
  },
  {
   "cell_type": "code",
   "execution_count": 48,
   "id": "3a5c768a",
   "metadata": {
    "execution": {
     "iopub.execute_input": "2023-11-01T18:01:23.557028Z",
     "iopub.status.busy": "2023-11-01T18:01:23.556565Z",
     "iopub.status.idle": "2023-11-01T18:01:23.566237Z",
     "shell.execute_reply": "2023-11-01T18:01:23.565428Z"
    },
    "papermill": {
     "duration": 0.054673,
     "end_time": "2023-11-01T18:01:23.568299",
     "exception": false,
     "start_time": "2023-11-01T18:01:23.513626",
     "status": "completed"
    },
    "tags": []
   },
   "outputs": [
    {
     "data": {
      "text/plain": [
       "id\n",
       "0     Sell\n",
       "1     Sell\n",
       "2      Buy\n",
       "3     Hold\n",
       "4     Hold\n",
       "      ... \n",
       "95    Hold\n",
       "96    Hold\n",
       "97    Hold\n",
       "98    Hold\n",
       "99    Hold\n",
       "Name: Strategy, Length: 100, dtype: object"
      ]
     },
     "execution_count": 48,
     "metadata": {},
     "output_type": "execute_result"
    }
   ],
   "source": [
    "submission[\"Strategy\"]"
   ]
  },
  {
   "cell_type": "code",
   "execution_count": 49,
   "id": "241b9c33",
   "metadata": {
    "execution": {
     "iopub.execute_input": "2023-11-01T18:01:23.651614Z",
     "iopub.status.busy": "2023-11-01T18:01:23.651174Z",
     "iopub.status.idle": "2023-11-01T18:01:23.662560Z",
     "shell.execute_reply": "2023-11-01T18:01:23.661460Z"
    },
    "papermill": {
     "duration": 0.055784,
     "end_time": "2023-11-01T18:01:23.664742",
     "exception": false,
     "start_time": "2023-11-01T18:01:23.608958",
     "status": "completed"
    },
    "tags": []
   },
   "outputs": [
    {
     "data": {
      "text/html": [
       "<div>\n",
       "<style scoped>\n",
       "    .dataframe tbody tr th:only-of-type {\n",
       "        vertical-align: middle;\n",
       "    }\n",
       "\n",
       "    .dataframe tbody tr th {\n",
       "        vertical-align: top;\n",
       "    }\n",
       "\n",
       "    .dataframe thead th {\n",
       "        text-align: right;\n",
       "    }\n",
       "</style>\n",
       "<table border=\"1\" class=\"dataframe\">\n",
       "  <thead>\n",
       "    <tr style=\"text-align: right;\">\n",
       "      <th></th>\n",
       "      <th>Date</th>\n",
       "      <th>Close</th>\n",
       "      <th>Strategy</th>\n",
       "    </tr>\n",
       "    <tr>\n",
       "      <th>id</th>\n",
       "      <th></th>\n",
       "      <th></th>\n",
       "      <th></th>\n",
       "    </tr>\n",
       "  </thead>\n",
       "  <tbody>\n",
       "    <tr>\n",
       "      <th>0</th>\n",
       "      <td>2021-03-01</td>\n",
       "      <td>79.745578</td>\n",
       "      <td>Sell</td>\n",
       "    </tr>\n",
       "    <tr>\n",
       "      <th>1</th>\n",
       "      <td>2021-03-08</td>\n",
       "      <td>79.244268</td>\n",
       "      <td>Sell</td>\n",
       "    </tr>\n",
       "    <tr>\n",
       "      <th>2</th>\n",
       "      <td>2021-03-15</td>\n",
       "      <td>78.546732</td>\n",
       "      <td>Buy</td>\n",
       "    </tr>\n",
       "    <tr>\n",
       "      <th>3</th>\n",
       "      <td>2021-03-22</td>\n",
       "      <td>79.553506</td>\n",
       "      <td>Hold</td>\n",
       "    </tr>\n",
       "    <tr>\n",
       "      <th>4</th>\n",
       "      <td>2021-03-29</td>\n",
       "      <td>79.142505</td>\n",
       "      <td>Hold</td>\n",
       "    </tr>\n",
       "  </tbody>\n",
       "</table>\n",
       "</div>"
      ],
      "text/plain": [
       "         Date      Close Strategy\n",
       "id                               \n",
       "0  2021-03-01  79.745578     Sell\n",
       "1  2021-03-08  79.244268     Sell\n",
       "2  2021-03-15  78.546732      Buy\n",
       "3  2021-03-22  79.553506     Hold\n",
       "4  2021-03-29  79.142505     Hold"
      ]
     },
     "execution_count": 49,
     "metadata": {},
     "output_type": "execute_result"
    }
   ],
   "source": [
    "submission.head()"
   ]
  },
  {
   "cell_type": "code",
   "execution_count": 50,
   "id": "b0c4de1b",
   "metadata": {
    "execution": {
     "iopub.execute_input": "2023-11-01T18:01:23.753679Z",
     "iopub.status.busy": "2023-11-01T18:01:23.752985Z",
     "iopub.status.idle": "2023-11-01T18:01:23.759250Z",
     "shell.execute_reply": "2023-11-01T18:01:23.758445Z"
    },
    "papermill": {
     "duration": 0.052479,
     "end_time": "2023-11-01T18:01:23.761628",
     "exception": false,
     "start_time": "2023-11-01T18:01:23.709149",
     "status": "completed"
    },
    "tags": []
   },
   "outputs": [],
   "source": [
    "submission.to_csv('submission.csv', index=True)"
   ]
  },
  {
   "cell_type": "code",
   "execution_count": null,
   "id": "aeb9d86b",
   "metadata": {
    "papermill": {
     "duration": 0.041164,
     "end_time": "2023-11-01T18:01:23.843487",
     "exception": false,
     "start_time": "2023-11-01T18:01:23.802323",
     "status": "completed"
    },
    "tags": []
   },
   "outputs": [],
   "source": []
  }
 ],
 "metadata": {
  "kernelspec": {
   "display_name": "Python 3",
   "language": "python",
   "name": "python3"
  },
  "language_info": {
   "codemirror_mode": {
    "name": "ipython",
    "version": 3
   },
   "file_extension": ".py",
   "mimetype": "text/x-python",
   "name": "python",
   "nbconvert_exporter": "python",
   "pygments_lexer": "ipython3",
   "version": "3.10.12"
  },
  "papermill": {
   "default_parameters": {},
   "duration": 74.691437,
   "end_time": "2023-11-01T18:01:24.606919",
   "environment_variables": {},
   "exception": null,
   "input_path": "__notebook__.ipynb",
   "output_path": "__notebook__.ipynb",
   "parameters": {},
   "start_time": "2023-11-01T18:00:09.915482",
   "version": "2.4.0"
  }
 },
 "nbformat": 4,
 "nbformat_minor": 5
}
